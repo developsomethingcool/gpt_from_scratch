{
 "cells": [
  {
   "cell_type": "markdown",
   "id": "f6290262",
   "metadata": {},
   "source": [
    "## Setup and Imports\n",
    "\n",
    "First, let's import the necessary modules and set up our environment."
   ]
  },
  {
   "cell_type": "code",
   "execution_count": 1,
   "id": "b7d0a3ab",
   "metadata": {},
   "outputs": [
    {
     "name": "stdout",
     "output_type": "stream",
     "text": [
      "Using MPS device: mps\n"
     ]
    }
   ],
   "source": [
    "import os\n",
    "import sys\n",
    "import torch\n",
    "import numpy as np\n",
    "import matplotlib.pyplot as plt\n",
    "import time\n",
    "from pathlib import Path\n",
    "import pandas as pd\n",
    "import seaborn as sns\n",
    "from typing import Dict, List, Tuple, Any\n",
    "\n",
    "# Add project root to path\n",
    "project_root = Path.cwd().parent\n",
    "if str(project_root) not in sys.path:\n",
    "    sys.path.insert(0, str(project_root))\n",
    "    \n",
    "# Import our modules\n",
    "from src.gpt_from_scratch.trainer.trainer import ModelTrainer\n",
    "from src.gpt_from_scratch.classic_ngram.classic_ngram import NGramLM, read_lines, build_stream\n",
    "from src.gpt_from_scratch.mini_gpt.mini_gpt import MiniGPT\n",
    "from src.gpt_from_scratch.tokenizer.tokenizer_bpe import BPETokenizer\n",
    "from src.gpt_from_scratch.neural_ngram.neural_ngram import NeuralNGramModel\n",
    "\n",
    "# CHOOSE YOUR DEVICE - pick ONE of these options:\n",
    "\n",
    "# # Option 1: Force CPU (safe but slower)\n",
    "# os.environ[\"DEVICE\"] = \"cpu\"\n",
    "# device = torch.device(\"cpu\")\n",
    "# print(f\"Using device: {device}\")\n",
    "\n",
    "# Option 2: Use MPS if available (faster but might have issues)\n",
    "os.environ[\"DEVICE\"] = \"mps\"\n",
    "if torch.backends.mps.is_available():\n",
    "    device = torch.device(\"mps\")\n",
    "    print(f\"Using MPS device: {device}\")\n",
    "else:\n",
    "    device = torch.device(\"cpu\")\n",
    "    print(f\"MPS not available, using: {device}\")\n",
    "\n",
    "# Disable torch compile to avoid MPS compatibility issues\n",
    "torch._dynamo.config.disable = True"
   ]
  },
  {
   "cell_type": "markdown",
   "id": "fef18d50",
   "metadata": {},
   "source": [
    "## Data Loading\n",
    "\n",
    "Let's load and prepare the data for our models."
   ]
  },
  {
   "cell_type": "code",
   "execution_count": 2,
   "id": "3837e97f",
   "metadata": {},
   "outputs": [
    {
     "name": "stdout",
     "output_type": "stream",
     "text": [
      "Loaded 1 training lines and 1 validation lines\n"
     ]
    }
   ],
   "source": [
    "# define paths\n",
    "DATA_DIR = project_root / \"data/processed\"\n",
    "TRAIN_PATH = DATA_DIR / \"train.txt\"\n",
    "VAL_PATH = DATA_DIR / \"val.txt\"\n",
    "TOKENIZER_DIR = project_root / \"tokenizers\"\n",
    "\n",
    "# create directories if they don't exist\n",
    "DATA_DIR.mkdir(exist_ok=True, parents=True)\n",
    "TOKENIZER_DIR.mkdir(exist_ok=True, parents=True)\n",
    "\n",
    "# check if data exists, otherwise download/create sample data\n",
    "if not TRAIN_PATH.exists() or not VAL_PATH.exists():\n",
    "    print(\"Data files not found. Creating sample data...\")\n",
    "    \n",
    "    # create simple sample data for demonstration\n",
    "    sample_text = \"\"\"\n",
    "    The quick brown fox jumps over the lazy dog. \n",
    "    To be or not to be, that is the question.\n",
    "    All that glitters is not gold.\n",
    "    Actions speak louder than words.\n",
    "    A picture is worth a thousand words.\n",
    "    \"\"\"\n",
    "    \n",
    "    # split into train/val\n",
    "    lines = [line.strip() for line in sample_text.strip().split('\\n') if line.strip()]\n",
    "    train_lines = lines[:int(len(lines) * 0.8)]\n",
    "    val_lines = lines[int(len(lines) * 0.8):]\n",
    "    \n",
    "    # write to files\n",
    "    DATA_DIR.mkdir(exist_ok=True, parents=True)\n",
    "    with open(TRAIN_PATH, 'w') as f:\n",
    "        f.write('\\n'.join(train_lines))\n",
    "    with open(VAL_PATH, 'w') as f:\n",
    "        f.write('\\n'.join(val_lines))\n",
    "    \n",
    "    print(f\"Created sample data at {TRAIN_PATH} and {VAL_PATH}\")\n",
    "\n",
    "# load the data\n",
    "train_lines = read_lines(TRAIN_PATH)\n",
    "val_lines = read_lines(VAL_PATH)\n",
    "\n",
    "print(f\"Loaded {len(train_lines)} training lines and {len(val_lines)} validation lines\")"
   ]
  },
  {
   "cell_type": "markdown",
   "id": "54af1fff",
   "metadata": {},
   "source": [
    "## Tokenizer Setup\n",
    "\n",
    "Train a BPE tokenizer on our data."
   ]
  },
  {
   "cell_type": "code",
   "execution_count": 3,
   "id": "e4580e7c",
   "metadata": {},
   "outputs": [
    {
     "name": "stdout",
     "output_type": "stream",
     "text": [
      "Trained tokenizer with 200 merges. Vocabulary size: 458\n",
      "\n",
      "=== Training tokenizer with 200 merges ===\n",
      "Trained tokenizer with 200 merges. Vocabulary size: 458\n",
      "\n",
      "=== Training tokenizer with 500 merges ===\n",
      "Trained tokenizer with 500 merges. Vocabulary size: 758\n",
      "\n",
      "=== Training tokenizer with 1000 merges ===\n",
      "Trained tokenizer with 1000 merges. Vocabulary size: 1258\n",
      "\n",
      "Trained 3 tokenizers with merge counts: [200, 500, 1000]\n",
      "\n",
      "Original: The quick brown fox jumps over the lazy dog.\n",
      "Encoded: [0, 297, 417, 107, 378, 295, 116, 425, 322, 113, 122, 34, 108, 119, 111, 114, 263, 113, 366, 298, 325, 124, 269, 102, 113, 105, 48, 1]\n",
      "Decoded: the quick brown fox jumps over the lazy dog.\n",
      "Tokenized: ['', 'the ', 'qu', 'i', 'ck', ' b', 'r', 'own', ' f', 'o', 'x', ' ', 'j', 'u', 'm', 'p', 's ', 'o', 'ver', ' the ', 'la', 'z', 'y ', 'd', 'o', 'g', '.', '']\n"
     ]
    }
   ],
   "source": [
    "def train_tokenizer(merges: int = 200):\n",
    "    \"\"\"Train a BPE tokenizer on the training data.\"\"\"\n",
    "    tokenizer = BPETokenizer(\n",
    "        seed=42,\n",
    "        bos_token=\"<BOS>\",\n",
    "        eos_token=\"<EOS>\",\n",
    "        pad_token=None,\n",
    "        unk_token=None,\n",
    "        lowercase=True,\n",
    "        unicode_normalization=\"NFKC\",\n",
    "        collapse_whitespace=True,\n",
    "        keep_newlines=True,\n",
    "    )\n",
    "    \n",
    "    # train on training data\n",
    "    train_text = TRAIN_PATH.read_text(encoding=\"utf-8\")\n",
    "    tokenizer.train(\n",
    "        train_text,\n",
    "        merges=merges,\n",
    "        guard_train_only=True,\n",
    "        source_tag=\"train\",\n",
    "        min_pair_freq=1,\n",
    "    )\n",
    "    \n",
    "    # save tokenizer\n",
    "    tag = f\"bpe_{merges:04d}\"\n",
    "    tokenizer.save(str(TOKENIZER_DIR), tag)\n",
    "    \n",
    "    print(f\"Trained tokenizer with {merges} merges. Vocabulary size: {len(tokenizer.vocab)}\")\n",
    "    return tokenizer\n",
    "\n",
    "\n",
    "#----------more extended training-------\n",
    "# Train the tokenizer\n",
    "tokenizer = train_tokenizer(merges=200)\n",
    "\n",
    "# for longer experiment\n",
    "merge_values = [200, 500, 1000]\n",
    "#--------------------------------------\n",
    "\n",
    "#-------- for fastest experiment------------\n",
    "#merge_values = [200]\n",
    "#---------------------------------------\n",
    "\n",
    "tokenizers = {}\n",
    "\n",
    "for merges in merge_values:\n",
    "    print(f\"\\n=== Training tokenizer with {merges} merges ===\")\n",
    "    tokenizers[merges] = train_tokenizer(merges=merges)\n",
    "    \n",
    "print(f\"\\nTrained {len(tokenizers)} tokenizers with merge counts: {list(tokenizers.keys())}\")\n",
    "\n",
    "tokenizer = tokenizers[200]\n",
    "\n",
    "# test the tokenizer\n",
    "sample_text = \"The quick brown fox jumps over the lazy dog.\"\n",
    "encoded = tokenizer.encode(sample_text, add_bos=True, add_eos=True)\n",
    "decoded = tokenizer.decode(encoded)\n",
    "\n",
    "print(f\"\\nOriginal: {sample_text}\")\n",
    "print(f\"Encoded: {encoded}\")\n",
    "print(f\"Decoded: {decoded}\")\n",
    "print(f\"Tokenized: {[tokenizer.decode([t]) for t in encoded]}\")"
   ]
  },
  {
   "cell_type": "markdown",
   "id": "165b740c",
   "metadata": {},
   "source": [
    "## Prepare Data for Models\n",
    "\n",
    "Convert text data to token streams for both model types."
   ]
  },
  {
   "cell_type": "code",
   "execution_count": 4,
   "id": "1386b451",
   "metadata": {},
   "outputs": [
    {
     "name": "stdout",
     "output_type": "stream",
     "text": [
      "Train stream length: 1999874 tokens\n",
      "Val stream length: 243767 tokens\n",
      "\n",
      "Neural model train input shape: torch.Size([1999810, 64])\n",
      "Neural model val input shape: torch.Size([243703, 64])\n"
     ]
    }
   ],
   "source": [
    "# process data for n-gram models\n",
    "train_stream = build_stream(tokenizer, train_lines)\n",
    "val_stream = build_stream(tokenizer, val_lines)\n",
    "\n",
    "print(f\"Train stream length: {len(train_stream)} tokens\")\n",
    "print(f\"Val stream length: {len(val_stream)} tokens\")\n",
    "\n",
    "# create tensor datasets for neural models\n",
    "def create_tensor_dataset(token_stream, context_size=64):\n",
    "    data = torch.tensor(token_stream, dtype=torch.long)\n",
    "    \n",
    "    # create sequences of context_size + 1\n",
    "    sequences = []\n",
    "    for i in range(0, len(data) - context_size):\n",
    "        seq = data[i:i+context_size+1]\n",
    "        sequences.append(seq)\n",
    "    \n",
    "    if sequences:\n",
    "        # stack sequences into a tensor\n",
    "        tensor_data = torch.stack(sequences)\n",
    "        \n",
    "        # split into inputs and targets\n",
    "        x = tensor_data[:, :-1]  # all but last token\n",
    "        y = tensor_data[:, 1:]   # all but first token\n",
    "        \n",
    "        return x, y\n",
    "    else:\n",
    "        # handle case with too short data\n",
    "        print(\"Warning: Data too short to create sequences!\")\n",
    "        return torch.tensor([], dtype=torch.long), torch.tensor([], dtype=torch.long)\n",
    "\n",
    "# create tensor data for neural models\n",
    "context_size = 64  # Context window size\n",
    "x_train, y_train = create_tensor_dataset(train_stream, context_size)\n",
    "x_val, y_val = create_tensor_dataset(val_stream, context_size)\n",
    "\n",
    "print(f\"\\nNeural model train input shape: {x_train.shape if len(x_train) > 0 else 'Empty'}\")\n",
    "print(f\"Neural model val input shape: {x_val.shape if len(x_val) > 0 else 'Empty'}\")"
   ]
  },
  {
   "cell_type": "markdown",
   "id": "82f092ea",
   "metadata": {},
   "source": [
    "## Training Configuration\n",
    "\n",
    "Define configurations for both model types."
   ]
  },
  {
   "cell_type": "code",
   "execution_count": 5,
   "id": "b636b9c5",
   "metadata": {},
   "outputs": [],
   "source": [
    "#---------For faster experiment----------------\n",
    "\n",
    "ngram_configs = [\n",
    "    {\"n\": 1, \"delta\": 0.1, \"smoothing\": \"laplace\", \"epochs\": 10, \"learning_rate\": 0.01, \"batch_size\": 32, \"context_size\": context_size},\n",
    "    {\"n\": 2, \"delta\": 0.1, \"smoothing\": \"laplace\", \"epochs\": 10, \"learning_rate\": 0.01, \"batch_size\": 32, \"context_size\": context_size},\n",
    "    {\"n\": 3, \"delta\": 0.1, \"smoothing\": \"laplace\", \"epochs\": 10, \"learning_rate\": 0.01, \"batch_size\": 32, \"context_size\": context_size},\n",
    "    {\"n\": 2, \"delta\": 0.1, \"smoothing\": \"backoff\", \"epochs\": 10, \"learning_rate\": 0.01, \"batch_size\": 32, \"context_size\": context_size},\n",
    "    {\"n\": 3, \"delta\": 0.1, \"smoothing\": \"interpolation\", \"epochs\": 10, \"learning_rate\": 0.01, \"batch_size\": 32, \"context_size\": context_size}\n",
    "]\n",
    "\n",
    "# keep only one GPT model\n",
    "gpt_configs = [\n",
    "    {\n",
    "        \"name\": \"tiny\",\n",
    "        \"vocab_size\": len(tokenizer.vocab),\n",
    "        \"n_embd\": 64,\n",
    "        \"n_head\": 4,\n",
    "        \"n_layer\": 4,\n",
    "        \"context_size\": context_size,\n",
    "        \"epochs\": 10,\n",
    "        \"learning_rate\": 3e-4,\n",
    "        \"batch_size\": 32,\n",
    "    }\n",
    "    # remove the \"small\" configuration\n",
    "]\n",
    "\n",
    "# keep only one Neural N-Gram model\n",
    "neural_ngram_configs = [\n",
    "    {\n",
    "        \"name\": \"neural_bigram\",\n",
    "        \"vocab_size\": len(tokenizer.vocab),\n",
    "        \"context_size\": 2,\n",
    "        \"embedding_dim\": 64,\n",
    "        \"hidden_dim\": 128,\n",
    "        \"epochs\": 10,\n",
    "        \"learning_rate\": 3e-4,\n",
    "        \"batch_size\": 32,\n",
    "    }\n",
    "    # remove the \"neural_trigram\" configuration\n",
    "]\n",
    "\n",
    "#---------For bigger experiment----------------\n",
    "# # N-gram configurations\n",
    "# ngram_configs = [\n",
    "#     {\"n\": 1, \"delta\": 0.1, \"smoothing\": \"laplace\", \"epochs\": 1, \"learning_rate\": 0.01, \"batch_size\": 32, \"context_size\": context_size},\n",
    "#     {\"n\": 2, \"delta\": 0.1, \"smoothing\": \"laplace\", \"epochs\": 1, \"learning_rate\": 0.01, \"batch_size\": 32, \"context_size\": context_size},\n",
    "#     {\"n\": 3, \"delta\": 0.1, \"smoothing\": \"laplace\", \"epochs\": 1, \"learning_rate\": 0.01, \"batch_size\": 32, \"context_size\": context_size},\n",
    "#     {\"n\": 2, \"delta\": 0.1, \"smoothing\": \"backoff\", \"epochs\": 1, \"learning_rate\": 0.01, \"batch_size\": 32, \"context_size\": context_size},\n",
    "#     {\"n\": 3, \"delta\": 0.1, \"smoothing\": \"interpolation\", \"epochs\": 1, \"learning_rate\": 0.01, \"batch_size\": 32, \"context_size\": context_size}\n",
    "# ]\n",
    "\n",
    "# # Mini-GPT configurations\n",
    "# gpt_configs = [\n",
    "#     {\n",
    "#         \"name\": \"tiny\",\n",
    "#         \"vocab_size\": len(tokenizer.vocab),\n",
    "#         \"n_embd\": 64,\n",
    "#         \"n_head\": 4,\n",
    "#         \"n_layer\": 4,\n",
    "#         \"context_size\": context_size,\n",
    "#         \"epochs\": 1,\n",
    "#         \"learning_rate\": 3e-4,\n",
    "#         \"batch_size\": 32,\n",
    "#     },\n",
    "#     {\n",
    "#         \"name\": \"small\",\n",
    "#         \"vocab_size\": len(tokenizer.vocab),\n",
    "#         \"n_embd\": 128,\n",
    "#         \"n_head\": 8,\n",
    "#         \"n_layer\": 6,\n",
    "#         \"context_size\": context_size,\n",
    "#         \"epochs\": 1,\n",
    "#         \"learning_rate\": 3e-4,\n",
    "#         \"batch_size\": 32,\n",
    "#     }\n",
    "# ]\n",
    "\n",
    "# # Neural N-Gram configurations\n",
    "# neural_ngram_configs = [\n",
    "#     {\n",
    "#         \"name\": \"neural_bigram\",\n",
    "#         \"vocab_size\": len(tokenizer.vocab),\n",
    "#         \"context_size\": 2,  # For a bigram model\n",
    "#         \"embedding_dim\": 64,\n",
    "#         \"hidden_dim\": 128,\n",
    "#         \"epochs\": 1,\n",
    "#         \"learning_rate\": 3e-4,\n",
    "#         \"batch_size\": 32,\n",
    "#     },\n",
    "#     {\n",
    "#         \"name\": \"neural_trigram\",\n",
    "#         \"vocab_size\": len(tokenizer.vocab),\n",
    "#         \"context_size\": 3,  # For a trigram model\n",
    "#         \"embedding_dim\": 128,\n",
    "#         \"hidden_dim\": 256,\n",
    "#         \"epochs\": 1,\n",
    "#         \"learning_rate\": 3e-4,\n",
    "#         \"batch_size\": 32,\n",
    "#     }\n",
    "# ]\n",
    "#-----------------------------------------------------------------\n",
    "def update_vocab_sizes(configs_list, vocab_size):\n",
    "    \"\"\"Create copies of configs with updated vocab size.\"\"\"\n",
    "    updated_configs = []\n",
    "    for config in configs_list:\n",
    "        new_config = config.copy()  # Create a copy\n",
    "        new_config['vocab_size'] = vocab_size  # Update the copy\n",
    "        updated_configs.append(new_config)\n",
    "    return updated_configs"
   ]
  },
  {
   "cell_type": "code",
   "execution_count": 6,
   "id": "1d8e497c",
   "metadata": {},
   "outputs": [],
   "source": [
    "def run_ngram_experiments(tokenizer, train_stream, val_stream, ngram_configs):\n",
    "    \"\"\"Run N-gram experiments with given tokenizer.\"\"\"\n",
    "    results = []\n",
    "    \n",
    "    for config in ngram_configs:\n",
    "        print(f\"\\nTraining N-gram model with n={config['n']}, smoothing={config['smoothing']}...\")\n",
    "        start_time = time.time()\n",
    "        \n",
    "        # create the model\n",
    "        model = NGramLM(\n",
    "            n=config['n'], \n",
    "            delta=config['delta'], \n",
    "            vocab_size=len(tokenizer.vocab),\n",
    "            smoothing_method=config['smoothing']\n",
    "        )\n",
    "        \n",
    "        # use the trainer for n-gram models\n",
    "        trainer_config = {\n",
    "            'epochs': config['epochs'],\n",
    "            'learning_rate': config['learning_rate'],\n",
    "            'batch_size': config['batch_size'],\n",
    "            'use_mixed_precision': False, \n",
    "            'context_size': config['context_size']\n",
    "        }\n",
    "            \n",
    "        experiment_dir = Path(f\"../experiments/ngram_{config['n']}_{config['smoothing']}\")\n",
    "        experiment_dir.mkdir(parents=True, exist_ok=True)\n",
    "        \n",
    "        trainer = ModelTrainer(\n",
    "            model_type=\"ngram\",\n",
    "            config=trainer_config,\n",
    "            experiment_dir=experiment_dir\n",
    "        )\n",
    "        \n",
    "        # train using the trainer\n",
    "        model, metrics = trainer.train(model, train_stream, val_stream)\n",
    "        train_time = time.time() - start_time\n",
    "        \n",
    "        # evaluate the model\n",
    "        train_ppl = model.perplexity(train_stream)\n",
    "        val_ppl = model.perplexity(val_stream)\n",
    "        \n",
    "        # generate a sample\n",
    "        seed_text = \"The\"\n",
    "        prefix = tokenizer.encode(seed_text, add_bos=False, add_eos=False)\n",
    "        generated_ids = model.generate_text(\n",
    "            prefix=prefix,\n",
    "            max_length=30,\n",
    "            temperature=0.8,\n",
    "            eos_token=tokenizer.inverse_vocab[\"<EOS>\"]\n",
    "        )\n",
    "        try:\n",
    "            generated_text = tokenizer.decode(generated_ids)\n",
    "        except UnicodeDecodeError:\n",
    "            generated_text = f\"<Unicode decode error: invalid byte sequence in generated tokens>\"\n",
    "        \n",
    "        # store results\n",
    "        result = {\n",
    "            \"type\": \"N-gram\",\n",
    "            \"config\": f\"{config['n']}-gram ({config['smoothing']})\",\n",
    "            \"train_time\": train_time,\n",
    "            \"train_ppl\": train_ppl,\n",
    "            \"val_ppl\": val_ppl,\n",
    "            \"sample\": generated_text\n",
    "        }\n",
    "        results.append(result)\n",
    "        \n",
    "        print(f\"  Training time: {train_time:.2f}s\")\n",
    "        print(f\"  Train perplexity: {train_ppl:.2f}\")\n",
    "        print(f\"  Val perplexity: {val_ppl:.2f}\")\n",
    "        print(f\"  Generated text: '{generated_text}'\")\n",
    "    \n",
    "    return results\n",
    "\n",
    "def run_neural_ngram_experiments(tokenizer, x_train, y_train, x_val, y_val, neural_ngram_configs):\n",
    "    \"\"\"Run Neural N-gram experiments with given tokenizer.\"\"\"\n",
    "    results = []\n",
    "    \n",
    "    for config in neural_ngram_configs:\n",
    "        print(f\"\\nTraining Neural N-Gram model: {config['name']}...\")\n",
    "        \n",
    "        # initialize model\n",
    "        model = NeuralNGramModel(\n",
    "            vocab_size=config['vocab_size'],\n",
    "            context_size=config['context_size'],\n",
    "            embedding_dim=config['embedding_dim'],\n",
    "            hidden_dim=config['hidden_dim'],\n",
    "            dropout=0.1\n",
    "        )\n",
    "        \n",
    "        model = model.to(device)\n",
    "\n",
    "        # setup trainer\n",
    "        trainer_config = {\n",
    "            'epochs': config['epochs'],\n",
    "            'learning_rate': config['learning_rate'],\n",
    "            'batch_size': config['batch_size'],\n",
    "            'use_mixed_precision': False,\n",
    "            'context_size': config['context_size']\n",
    "        }\n",
    "        \n",
    "        experiment_dir = Path(f\"../experiments/neural_ngram_{config['name']}\")\n",
    "        experiment_dir.mkdir(parents=True, exist_ok=True)\n",
    "        \n",
    "        trainer = ModelTrainer(\n",
    "            model_type=\"neural\",\n",
    "            config=trainer_config,\n",
    "            experiment_dir=experiment_dir\n",
    "        )\n",
    "        \n",
    "        # prepare data\n",
    "        from torch.utils.data import TensorDataset, DataLoader\n",
    "        \n",
    "        def prepare_ngram_data(x, y, context_size):\n",
    "            if x.size(1) > context_size:\n",
    "                inputs = x[:, -context_size:]\n",
    "            else:\n",
    "                inputs = x\n",
    "            targets = y[:, -1]\n",
    "            return TensorDataset(inputs, targets)\n",
    "        \n",
    "        train_dataset = prepare_ngram_data(x_train, y_train, config['context_size'])\n",
    "        val_dataset = prepare_ngram_data(x_val, y_val, config['context_size'])\n",
    "        \n",
    "        train_loader = DataLoader(train_dataset, batch_size=config['batch_size'], shuffle=True)\n",
    "        val_loader = DataLoader(val_dataset, batch_size=config['batch_size'])\n",
    "        \n",
    "        # train model\n",
    "        start_time = time.time()\n",
    "        model, metrics = trainer.train(model, train_loader, val_loader)\n",
    "        train_time = time.time() - start_time\n",
    "        \n",
    "        # get final metrics\n",
    "        final_train_metrics = metrics['train_metrics'][-1] if metrics['train_metrics'] else {'loss': float('nan')}\n",
    "        final_val_metrics = metrics['val_metrics'][-1] if metrics['val_metrics'] else {'loss': float('nan'), 'perplexity': float('nan')}\n",
    "        \n",
    "        # generate sample\n",
    "        try:\n",
    "            model.eval()\n",
    "            prefix = tokenizer.encode(\"The\", add_bos=False, add_eos=False)\n",
    "            \n",
    "            if len(prefix) >= model.context_size:\n",
    "                input_tokens = prefix[-model.context_size:]\n",
    "            else:\n",
    "                padding_needed = model.context_size - len(prefix)\n",
    "                input_tokens = [0] * padding_needed + prefix\n",
    "            \n",
    "            input_ids = torch.tensor([input_tokens], dtype=torch.long).to(next(model.parameters()).device)\n",
    "            generated_ids = model.generate(input_ids, max_new_tokens=30, temperature=0.8, top_k=50)\n",
    "            sample = tokenizer.decode(generated_ids[0].tolist())\n",
    "        except Exception as e:\n",
    "            sample = f\"<Generation failed: {str(e)}>\"\n",
    "        \n",
    "        # store results\n",
    "        result = {\n",
    "            \"type\": \"Neural N-Gram\",\n",
    "            \"config\": f\"{config['name']} (ctx={config['context_size']}, emb={config['embedding_dim']})\",\n",
    "            \"train_time\": train_time,\n",
    "            \"train_ppl\": torch.exp(torch.tensor(final_train_metrics['loss'])).item(),\n",
    "            \"val_ppl\": final_val_metrics['perplexity'],\n",
    "            \"sample\": sample\n",
    "        }\n",
    "        results.append(result)\n",
    "        \n",
    "        print(f\"  Training time: {train_time:.2f}s\")\n",
    "        print(f\"  Train perplexity: {torch.exp(torch.tensor(final_train_metrics['loss'])).item():.2f}\")\n",
    "        print(f\"  Val perplexity: {final_val_metrics['perplexity']:.2f}\")\n",
    "        print(f\"  Generated text: '{sample}'\")\n",
    "    \n",
    "    return results\n",
    "\n",
    "def run_gpt_experiments(tokenizer, x_train, y_train, x_val, y_val, gpt_configs):\n",
    "    \"\"\"Run Mini-GPT experiments with given tokenizer.\"\"\"\n",
    "    results = []\n",
    "    \n",
    "    for config in gpt_configs:\n",
    "        print(f\"\\nTraining Mini-GPT model: {config['name']}...\")\n",
    "        \n",
    "        # initialize model\n",
    "        model = MiniGPT(\n",
    "            vocab_size=config['vocab_size'],\n",
    "            embedding_dim=config['n_embd'],  \n",
    "            context_size=config['context_size'],\n",
    "            n_layers=config['n_layer'],      \n",
    "            n_heads=config['n_head'],        \n",
    "            dropout=0.1\n",
    "        )\n",
    "        \n",
    "        model = model.to(device)\n",
    "\n",
    "        # setup trainer\n",
    "        trainer_config = {\n",
    "            'epochs': config['epochs'],\n",
    "            'learning_rate': config['learning_rate'],\n",
    "            'batch_size': config['batch_size'],\n",
    "            'use_mixed_precision': True,\n",
    "            'context_size': config['context_size']\n",
    "        }\n",
    "        \n",
    "        experiment_dir = Path(f\"../experiments/mini_gpt_{config['name']}\")\n",
    "        experiment_dir.mkdir(parents=True, exist_ok=True)\n",
    "        \n",
    "        trainer = ModelTrainer(\n",
    "            model_type=\"neural\",\n",
    "            config=trainer_config,\n",
    "            experiment_dir=experiment_dir\n",
    "        )\n",
    "        \n",
    "        # create datasets\n",
    "        from torch.utils.data import TensorDataset, DataLoader\n",
    "        train_dataset = TensorDataset(x_train, y_train)\n",
    "        val_dataset = TensorDataset(x_val, y_val)\n",
    "        \n",
    "        train_loader = DataLoader(train_dataset, batch_size=config['batch_size'], shuffle=True)\n",
    "        val_loader = DataLoader(val_dataset, batch_size=config['batch_size'])\n",
    "        \n",
    "        # train model\n",
    "        start_time = time.time()\n",
    "        model, metrics = trainer.train(model, train_loader, val_loader)\n",
    "        train_time = time.time() - start_time\n",
    "        \n",
    "        # get final metrics\n",
    "        final_train_metrics = metrics['train_metrics'][-1] if metrics['train_metrics'] else {'loss': float('nan')}\n",
    "        final_val_metrics = metrics['val_metrics'][-1] if metrics['val_metrics'] else {'loss': float('nan'), 'perplexity': float('nan')}\n",
    "        \n",
    "        # generate sample\n",
    "        try:\n",
    "            model.eval()\n",
    "            prefix = tokenizer.encode(\"The\", add_bos=False, add_eos=False)\n",
    "            input_ids = torch.tensor([prefix], dtype=torch.long).to(next(model.parameters()).device)\n",
    "            \n",
    "            if hasattr(model, 'generate'):\n",
    "                generated_ids = model.generate(input_ids, max_new_tokens=30, temperature=0.8, top_k=50)\n",
    "                sample = tokenizer.decode(generated_ids[0].tolist())\n",
    "            else:\n",
    "                # fallback generation\n",
    "                with torch.no_grad():\n",
    "                    for _ in range(30):\n",
    "                        outputs = model(input_ids)\n",
    "                        next_token_logits = outputs[:, -1, :]\n",
    "                        probs = torch.nn.functional.softmax(next_token_logits / 0.8, dim=-1)\n",
    "                        next_token = torch.multinomial(probs, num_samples=1)\n",
    "                        input_ids = torch.cat([input_ids, next_token], dim=1)\n",
    "                        \n",
    "                        if hasattr(tokenizer, 'eos_id') and next_token.item() == tokenizer.eos_id:\n",
    "                            break\n",
    "                            \n",
    "                sample = tokenizer.decode(input_ids[0].tolist())\n",
    "        except Exception as e:\n",
    "            sample = f\"<Generation failed: {str(e)}>\"\n",
    "        \n",
    "        # store results\n",
    "        result = {\n",
    "            \"type\": \"Mini-GPT\",\n",
    "            \"config\": f\"{config['name']} (emb={config['n_embd']}, layers={config['n_layer']})\",\n",
    "            \"train_time\": train_time,\n",
    "            \"train_ppl\": torch.exp(torch.tensor(final_train_metrics['loss'])).item(),\n",
    "            \"val_ppl\": final_val_metrics['perplexity'],\n",
    "            \"sample\": sample\n",
    "        }\n",
    "        results.append(result)\n",
    "        \n",
    "        print(f\"  Training time: {train_time:.2f}s\")\n",
    "        print(f\"  Train perplexity: {torch.exp(torch.tensor(final_train_metrics['loss'])).item():.2f}\")\n",
    "        print(f\"  Val perplexity: {final_val_metrics['perplexity']:.2f}\")\n",
    "        print(f\"  Generated text: '{sample}'\")\n",
    "    \n",
    "    return results"
   ]
  },
  {
   "cell_type": "markdown",
   "id": "5bdd23c9",
   "metadata": {},
   "source": [
    "# Helper Functions for Multi-Tokenizer Experiments"
   ]
  },
  {
   "cell_type": "code",
   "execution_count": 7,
   "id": "3dc2bd60",
   "metadata": {},
   "outputs": [
    {
     "name": "stdout",
     "output_type": "stream",
     "text": [
      "============================================================\n",
      "STAGE 1: TESTING ALL TOKENIZERS ON N-GRAM MODELS\n",
      "============================================================\n",
      "\n",
      "--- Testing 200-merge tokenizer on N-gram models ---\n",
      "Vocabulary size: 458\n"
     ]
    },
    {
     "name": "stderr",
     "output_type": "stream",
     "text": [
      "2025-09-01 17:12:54,073 - INFO - Efficient attention enabled\n",
      "2025-09-01 17:12:54,073 - INFO - Initialized trainer on mps\n",
      "2025-09-01 17:12:54,074 - INFO - Starting training for ngram model\n",
      "2025-09-01 17:12:54,074 - INFO - Training classical n-gram model...\n",
      "2025-09-01 17:12:54,255 - INFO - Validation perplexity: 160.905\n",
      "2025-09-01 17:12:54,256 - INFO - N-gram training completed in 0.18 seconds\n"
     ]
    },
    {
     "name": "stdout",
     "output_type": "stream",
     "text": [
      "\n",
      "Training N-gram model with n=1, smoothing=laplace...\n"
     ]
    },
    {
     "name": "stderr",
     "output_type": "stream",
     "text": [
      "2025-09-01 17:12:54,779 - INFO - Efficient attention enabled\n",
      "2025-09-01 17:12:54,779 - INFO - Initialized trainer on mps\n",
      "2025-09-01 17:12:54,779 - INFO - Starting training for ngram model\n",
      "2025-09-01 17:12:54,780 - INFO - Training classical n-gram model...\n"
     ]
    },
    {
     "name": "stdout",
     "output_type": "stream",
     "text": [
      "  Training time: 0.19s\n",
      "  Train perplexity: 160.54\n",
      "  Val perplexity: 160.91\n",
      "  Generated text: 'the wi&ouytheat your7e. 'x you&she 's x ofo.  seck wf this of9:qu'\n",
      "\n",
      "Training N-gram model with n=2, smoothing=laplace...\n"
     ]
    },
    {
     "name": "stderr",
     "output_type": "stream",
     "text": [
      "2025-09-01 17:12:55,252 - INFO - Validation perplexity: 41.678\n",
      "2025-09-01 17:12:55,253 - INFO - N-gram training completed in 0.47 seconds\n",
      "2025-09-01 17:12:55,862 - INFO - Efficient attention enabled\n",
      "2025-09-01 17:12:55,862 - INFO - Initialized trainer on mps\n",
      "2025-09-01 17:12:55,862 - INFO - Starting training for ngram model\n",
      "2025-09-01 17:12:55,863 - INFO - Training classical n-gram model...\n"
     ]
    },
    {
     "name": "stdout",
     "output_type": "stream",
     "text": [
      "  Training time: 0.47s\n",
      "  Train perplexity: 40.76\n",
      "  Val perplexity: 41.68\n",
      "  Generated text: 'thee compl froud with by sterswhat ive to your hervein so sha'\n",
      "\n",
      "Training N-gram model with n=3, smoothing=laplace...\n"
     ]
    },
    {
     "name": "stderr",
     "output_type": "stream",
     "text": [
      "2025-09-01 17:12:56,436 - INFO - Validation perplexity: 21.987\n",
      "2025-09-01 17:12:56,436 - INFO - N-gram training completed in 0.57 seconds\n",
      "2025-09-01 17:12:57,181 - INFO - Efficient attention enabled\n",
      "2025-09-01 17:12:57,182 - INFO - Initialized trainer on mps\n",
      "2025-09-01 17:12:57,182 - INFO - Starting training for ngram model\n",
      "2025-09-01 17:12:57,182 - INFO - Training classical n-gram model...\n"
     ]
    },
    {
     "name": "stdout",
     "output_type": "stream",
     "text": [
      "  Training time: 0.58s\n",
      "  Train perplexity: 16.81\n",
      "  Val perplexity: 21.99\n",
      "  Generated text: '<Unicode decode error: invalid byte sequence in generated tokens>'\n",
      "\n",
      "Training N-gram model with n=2, smoothing=backoff...\n"
     ]
    },
    {
     "name": "stderr",
     "output_type": "stream",
     "text": [
      "2025-09-01 17:12:57,660 - INFO - Validation perplexity: 41.306\n",
      "2025-09-01 17:12:57,660 - INFO - N-gram training completed in 0.48 seconds\n",
      "2025-09-01 17:12:58,230 - INFO - Efficient attention enabled\n",
      "2025-09-01 17:12:58,230 - INFO - Initialized trainer on mps\n",
      "2025-09-01 17:12:58,230 - INFO - Starting training for ngram model\n",
      "2025-09-01 17:12:58,231 - INFO - Training classical n-gram model...\n"
     ]
    },
    {
     "name": "stdout",
     "output_type": "stream",
     "text": [
      "  Training time: 0.48s\n",
      "  Train perplexity: 40.57\n",
      "  Val perplexity: 41.31\n",
      "  Generated text: 'thee to be dition! whe) ress, we' le, and gn, and be dish'd so '\n",
      "\n",
      "Training N-gram model with n=3, smoothing=interpolation...\n"
     ]
    },
    {
     "name": "stderr",
     "output_type": "stream",
     "text": [
      "2025-09-01 17:12:58,878 - INFO - Validation perplexity: 43.723\n",
      "2025-09-01 17:12:58,878 - INFO - N-gram training completed in 0.65 seconds\n"
     ]
    },
    {
     "name": "stdout",
     "output_type": "stream",
     "text": [
      "  Training time: 0.65s\n",
      "  Train perplexity: 36.04\n",
      "  Val perplexity: 43.72\n",
      "  Generated text: '<Unicode decode error: invalid byte sequence in generated tokens>'\n",
      "Average validation perplexity for 200-merge tokenizer: 61.92\n",
      "\n",
      "--- Testing 500-merge tokenizer on N-gram models ---\n",
      "Vocabulary size: 758\n"
     ]
    },
    {
     "name": "stderr",
     "output_type": "stream",
     "text": [
      "2025-09-01 17:15:20,693 - INFO - Efficient attention enabled\n",
      "2025-09-01 17:15:20,694 - INFO - Initialized trainer on mps\n",
      "2025-09-01 17:15:20,694 - INFO - Starting training for ngram model\n",
      "2025-09-01 17:15:20,694 - INFO - Training classical n-gram model...\n",
      "2025-09-01 17:15:20,839 - INFO - Validation perplexity: 339.644\n",
      "2025-09-01 17:15:20,839 - INFO - N-gram training completed in 0.15 seconds\n"
     ]
    },
    {
     "name": "stdout",
     "output_type": "stream",
     "text": [
      "\n",
      "Training N-gram model with n=1, smoothing=laplace...\n"
     ]
    },
    {
     "name": "stderr",
     "output_type": "stream",
     "text": [
      "2025-09-01 17:15:21,256 - INFO - Efficient attention enabled\n",
      "2025-09-01 17:15:21,256 - INFO - Initialized trainer on mps\n",
      "2025-09-01 17:15:21,256 - INFO - Starting training for ngram model\n",
      "2025-09-01 17:15:21,257 - INFO - Training classical n-gram model...\n"
     ]
    },
    {
     "name": "stdout",
     "output_type": "stream",
     "text": [
      "  Training time: 0.15s\n",
      "  Train perplexity: 337.25\n",
      "  Val perplexity: 339.64\n",
      "  Generated text: 'thereprothingtilogentdo resa. s earwhgood es gheboelfimake enot par py in loo?  their'\n",
      "\n",
      "Training N-gram model with n=2, smoothing=laplace...\n"
     ]
    },
    {
     "name": "stderr",
     "output_type": "stream",
     "text": [
      "2025-09-01 17:15:21,642 - INFO - Validation perplexity: 63.269\n",
      "2025-09-01 17:15:21,642 - INFO - N-gram training completed in 0.39 seconds\n",
      "2025-09-01 17:15:22,144 - INFO - Efficient attention enabled\n",
      "2025-09-01 17:15:22,144 - INFO - Initialized trainer on mps\n",
      "2025-09-01 17:15:22,144 - INFO - Starting training for ngram model\n",
      "2025-09-01 17:15:22,144 - INFO - Training classical n-gram model...\n"
     ]
    },
    {
     "name": "stdout",
     "output_type": "stream",
     "text": [
      "  Training time: 0.39s\n",
      "  Train perplexity: 57.82\n",
      "  Val perplexity: 63.27\n",
      "  Generated text: 'thee. garning into the prince, that weland donegree wit; and now, et at dead, si'\n",
      "\n",
      "Training N-gram model with n=3, smoothing=laplace...\n"
     ]
    },
    {
     "name": "stderr",
     "output_type": "stream",
     "text": [
      "2025-09-01 17:15:22,682 - INFO - Validation perplexity: 54.383\n",
      "2025-09-01 17:15:22,682 - INFO - N-gram training completed in 0.54 seconds\n",
      "2025-09-01 17:15:23,351 - INFO - Efficient attention enabled\n",
      "2025-09-01 17:15:23,352 - INFO - Initialized trainer on mps\n",
      "2025-09-01 17:15:23,352 - INFO - Starting training for ngram model\n",
      "2025-09-01 17:15:23,352 - INFO - Training classical n-gram model...\n"
     ]
    },
    {
     "name": "stdout",
     "output_type": "stream",
     "text": [
      "  Training time: 0.54s\n",
      "  Train perplexity: 27.07\n",
      "  Val perplexity: 54.38\n",
      "  Generated text: '<Unicode decode error: invalid byte sequence in generated tokens>'\n",
      "\n",
      "Training N-gram model with n=2, smoothing=backoff...\n"
     ]
    },
    {
     "name": "stderr",
     "output_type": "stream",
     "text": [
      "2025-09-01 17:15:23,732 - INFO - Validation perplexity: 60.720\n",
      "2025-09-01 17:15:23,733 - INFO - N-gram training completed in 0.38 seconds\n",
      "2025-09-01 17:15:24,203 - INFO - Efficient attention enabled\n",
      "2025-09-01 17:15:24,203 - INFO - Initialized trainer on mps\n",
      "2025-09-01 17:15:24,203 - INFO - Starting training for ngram model\n",
      "2025-09-01 17:15:24,204 - INFO - Training classical n-gram model...\n"
     ]
    },
    {
     "name": "stdout",
     "output_type": "stream",
     "text": [
      "  Training time: 0.39s\n",
      "  Train perplexity: 56.63\n",
      "  Val perplexity: 60.72\n",
      "  Generated text: 'thee, he hath birst and say-gownloy; bring upon thy houd. ere is not so ill it '\n",
      "\n",
      "Training N-gram model with n=3, smoothing=interpolation...\n"
     ]
    },
    {
     "name": "stderr",
     "output_type": "stream",
     "text": [
      "2025-09-01 17:15:24,809 - INFO - Validation perplexity: 75.312\n",
      "2025-09-01 17:15:24,809 - INFO - N-gram training completed in 0.61 seconds\n"
     ]
    },
    {
     "name": "stdout",
     "output_type": "stream",
     "text": [
      "  Training time: 0.61s\n",
      "  Train perplexity: 39.91\n",
      "  Val perplexity: 75.31\n",
      "  Generated text: '<Unicode decode error: invalid byte sequence in generated tokens>'\n",
      "Average validation perplexity for 500-merge tokenizer: 118.67\n",
      "\n",
      "--- Testing 1000-merge tokenizer on N-gram models ---\n",
      "Vocabulary size: 1258\n"
     ]
    },
    {
     "name": "stderr",
     "output_type": "stream",
     "text": [
      "2025-09-01 17:19:42,018 - INFO - Efficient attention enabled\n",
      "2025-09-01 17:19:42,020 - INFO - Initialized trainer on mps\n",
      "2025-09-01 17:19:42,020 - INFO - Starting training for ngram model\n",
      "2025-09-01 17:19:42,020 - INFO - Training classical n-gram model...\n",
      "2025-09-01 17:19:42,142 - INFO - Validation perplexity: 587.319\n",
      "2025-09-01 17:19:42,142 - INFO - N-gram training completed in 0.12 seconds\n"
     ]
    },
    {
     "name": "stdout",
     "output_type": "stream",
     "text": [
      "\n",
      "Training N-gram model with n=1, smoothing=laplace...\n"
     ]
    },
    {
     "name": "stderr",
     "output_type": "stream",
     "text": [
      "2025-09-01 17:19:42,505 - INFO - Efficient attention enabled\n",
      "2025-09-01 17:19:42,505 - INFO - Initialized trainer on mps\n",
      "2025-09-01 17:19:42,505 - INFO - Starting training for ngram model\n",
      "2025-09-01 17:19:42,506 - INFO - Training classical n-gram model...\n"
     ]
    },
    {
     "name": "stdout",
     "output_type": "stream",
     "text": [
      "  Training time: 0.12s\n",
      "  Train perplexity: 589.70\n",
      "  Val perplexity: 587.32\n",
      "  Generated text: 'the\"pi proenterred i willess*oneek give and, trowhaemmy um desholry,  desimhave iraughed commerciese scene t. '\n",
      "\n",
      "Training N-gram model with n=2, smoothing=laplace...\n"
     ]
    },
    {
     "name": "stderr",
     "output_type": "stream",
     "text": [
      "2025-09-01 17:19:42,836 - INFO - Validation perplexity: 89.842\n",
      "2025-09-01 17:19:42,837 - INFO - N-gram training completed in 0.33 seconds\n",
      "2025-09-01 17:19:43,249 - INFO - Efficient attention enabled\n",
      "2025-09-01 17:19:43,249 - INFO - Initialized trainer on mps\n",
      "2025-09-01 17:19:43,249 - INFO - Starting training for ngram model\n",
      "2025-09-01 17:19:43,249 - INFO - Training classical n-gram model...\n"
     ]
    },
    {
     "name": "stdout",
     "output_type": "stream",
     "text": [
      "  Training time: 0.33s\n",
      "  Train perplexity: 74.69\n",
      "  Val perplexity: 89.84\n",
      "  Generated text: 'they, even placent to extly, whiteach eld not a suish. my makes me of mee; but i will'\n",
      "\n",
      "Training N-gram model with n=3, smoothing=laplace...\n"
     ]
    },
    {
     "name": "stderr",
     "output_type": "stream",
     "text": [
      "2025-09-01 17:19:43,751 - INFO - Validation perplexity: 145.950\n",
      "2025-09-01 17:19:43,751 - INFO - N-gram training completed in 0.50 seconds\n",
      "2025-09-01 17:19:44,353 - INFO - Efficient attention enabled\n",
      "2025-09-01 17:19:44,353 - INFO - Initialized trainer on mps\n",
      "2025-09-01 17:19:44,354 - INFO - Starting training for ngram model\n",
      "2025-09-01 17:19:44,354 - INFO - Training classical n-gram model...\n"
     ]
    },
    {
     "name": "stdout",
     "output_type": "stream",
     "text": [
      "  Training time: 0.50s\n",
      "  Train perplexity: 49.65\n",
      "  Val perplexity: 145.95\n",
      "  Generated text: 'theceshere lish man. pish! but, for my behaviours he loves him first was irksome to ex'\n",
      "\n",
      "Training N-gram model with n=2, smoothing=backoff...\n"
     ]
    },
    {
     "name": "stderr",
     "output_type": "stream",
     "text": [
      "2025-09-01 17:19:44,681 - INFO - Validation perplexity: 80.375\n",
      "2025-09-01 17:19:44,681 - INFO - N-gram training completed in 0.33 seconds\n",
      "2025-09-01 17:19:45,091 - INFO - Efficient attention enabled\n",
      "2025-09-01 17:19:45,092 - INFO - Initialized trainer on mps\n",
      "2025-09-01 17:19:45,092 - INFO - Starting training for ngram model\n",
      "2025-09-01 17:19:45,092 - INFO - Training classical n-gram model...\n"
     ]
    },
    {
     "name": "stdout",
     "output_type": "stream",
     "text": [
      "  Training time: 0.34s\n",
      "  Train perplexity: 69.28\n",
      "  Val perplexity: 80.37\n",
      "  Generated text: 'thee, which would best the laimpets if this we heard servant. my slings. but now to thee, '\n",
      "\n",
      "Training N-gram model with n=3, smoothing=interpolation...\n"
     ]
    },
    {
     "name": "stderr",
     "output_type": "stream",
     "text": [
      "2025-09-01 17:19:45,756 - INFO - Validation perplexity: 149.959\n",
      "2025-09-01 17:19:45,757 - INFO - N-gram training completed in 0.66 seconds\n"
     ]
    },
    {
     "name": "stdout",
     "output_type": "stream",
     "text": [
      "  Training time: 0.67s\n",
      "  Train perplexity: 45.83\n",
      "  Val perplexity: 149.96\n",
      "  Generated text: 'thehengcounby a brother, with all my heart! dare not observe your princely feet in'\n",
      "Average validation perplexity for 1000-merge tokenizer: 210.69\n",
      "\n",
      "============================================================\n",
      "FINDING TOP-3 TOKENIZERS FOR N-GRAM MODELS\n",
      "============================================================\n",
      "Tokenizer performance ranking (by avg validation perplexity):\n",
      "top 1. 200 merges (vocab=458): 61.92\n",
      "top 2. 500 merges (vocab=758): 118.67\n",
      "top 3. 1000 merges (vocab=1258): 210.69\n",
      "\n",
      "Top-3 tokenizers selected for GPT testing: [200, 500, 1000]\n",
      "\n",
      "Stage 1 completed: 15 N-gram experiments\n"
     ]
    }
   ],
   "source": [
    "## Stage 1: Find Best Tokenizers for N-Gram Models\n",
    "\n",
    "print(\"=\"*60)\n",
    "print(\"STAGE 1: TESTING ALL TOKENIZERS ON N-GRAM MODELS\")\n",
    "print(\"=\"*60)\n",
    "\n",
    "# Stage 1: Test all tokenizers on N-gram models only\n",
    "ngram_tokenizer_results = []\n",
    "tokenizer_performance = {}\n",
    "\n",
    "for merges, tokenizer in tokenizers.items():\n",
    "    print(f\"\\n--- Testing {merges}-merge tokenizer on N-gram models ---\")\n",
    "    print(f\"Vocabulary size: {len(tokenizer.vocab)}\")\n",
    "    \n",
    "    # prepare data for this tokenizer\n",
    "    train_stream = build_stream(tokenizer, train_lines)\n",
    "    val_stream = build_stream(tokenizer, val_lines)\n",
    "    \n",
    "    # update n-gram configs with new vocab size\n",
    "    current_ngram_configs = update_vocab_sizes(ngram_configs, len(tokenizer.vocab))\n",
    "    \n",
    "    # run N-gram experiments only\n",
    "    ngram_results = run_ngram_experiments(tokenizer, train_stream, val_stream, current_ngram_configs)\n",
    "\n",
    "    # add tokenizer info to results\n",
    "    for result in ngram_results:\n",
    "        result['tokenizer_merges'] = merges\n",
    "        result['vocab_size'] = len(tokenizer.vocab)\n",
    "    \n",
    "    # store results\n",
    "    ngram_tokenizer_results.extend(ngram_results)\n",
    "    \n",
    "    # calculate average validation perplexity for this tokenizer\n",
    "    avg_val_ppl = sum([r['val_ppl'] for r in ngram_results]) / len(ngram_results)\n",
    "    tokenizer_performance[merges] = {\n",
    "        'avg_val_ppl': avg_val_ppl,\n",
    "        'vocab_size': len(tokenizer.vocab),\n",
    "        'results': ngram_results\n",
    "    }\n",
    "    \n",
    "    print(f\"Average validation perplexity for {merges}-merge tokenizer: {avg_val_ppl:.2f}\")\n",
    "\n",
    "# find top 3 tokenizers based on N-gram performance\n",
    "print(f\"\\n{'='*60}\")\n",
    "print(\"FINDING TOP-3 TOKENIZERS FOR N-GRAM MODELS\")\n",
    "print(f\"{'='*60}\")\n",
    "\n",
    "# sort tokenizers by average validation perplexity (lower is better)\n",
    "sorted_tokenizers = sorted(tokenizer_performance.items(), \n",
    "                          key=lambda x: x[1]['avg_val_ppl'])\n",
    "\n",
    "top_3_merges = [merges for merges, _ in sorted_tokenizers[:3]]\n",
    "print(\"Tokenizer performance ranking (by avg validation perplexity):\")\n",
    "for i, (merges, perf) in enumerate(sorted_tokenizers, 1):\n",
    "    marker = \"top\" if merges in top_3_merges else \"  \"\n",
    "    print(f\"{marker} {i}. {merges} merges (vocab={perf['vocab_size']}): {perf['avg_val_ppl']:.2f}\")\n",
    "\n",
    "print(f\"\\nTop-3 tokenizers selected for GPT testing: {top_3_merges}\")\n",
    "\n",
    "# create DataFrame for N-gram stage results\n",
    "ngram_stage_df = pd.DataFrame(ngram_tokenizer_results)\n",
    "print(f\"\\nStage 1 completed: {len(ngram_stage_df)} N-gram experiments\")"
   ]
  },
  {
   "cell_type": "markdown",
   "id": "17a56d8a",
   "metadata": {},
   "source": [
    "# Multi-Tokenizer Experiments\n"
   ]
  },
  {
   "cell_type": "code",
   "execution_count": 8,
   "id": "5ff627c9",
   "metadata": {},
   "outputs": [
    {
     "name": "stdout",
     "output_type": "stream",
     "text": [
      "\n",
      "============================================================\n",
      "RUNNING EXPERIMENTS WITH 200-MERGE TOKENIZER\n",
      "Vocabulary size: 458\n",
      "============================================================\n"
     ]
    },
    {
     "name": "stderr",
     "output_type": "stream",
     "text": [
      "2025-09-01 17:20:58,400 - INFO - Efficient attention enabled\n",
      "2025-09-01 17:20:58,400 - INFO - Initialized trainer on mps\n",
      "2025-09-01 17:20:58,401 - INFO - Starting training for ngram model\n",
      "2025-09-01 17:20:58,401 - INFO - Training classical n-gram model...\n",
      "2025-09-01 17:20:58,573 - INFO - Validation perplexity: 160.905\n",
      "2025-09-01 17:20:58,573 - INFO - N-gram training completed in 0.17 seconds\n"
     ]
    },
    {
     "name": "stdout",
     "output_type": "stream",
     "text": [
      "\n",
      "--- N-Gram Models ---\n",
      "\n",
      "Training N-gram model with n=1, smoothing=laplace...\n"
     ]
    },
    {
     "name": "stderr",
     "output_type": "stream",
     "text": [
      "2025-09-01 17:20:59,094 - INFO - Efficient attention enabled\n",
      "2025-09-01 17:20:59,095 - INFO - Initialized trainer on mps\n",
      "2025-09-01 17:20:59,095 - INFO - Starting training for ngram model\n",
      "2025-09-01 17:20:59,095 - INFO - Training classical n-gram model...\n"
     ]
    },
    {
     "name": "stdout",
     "output_type": "stream",
     "text": [
      "  Training time: 0.17s\n",
      "  Train perplexity: 160.54\n",
      "  Val perplexity: 160.91\n",
      "  Generated text: 'the., im phalllowillas ; and  yourit y.  youcauram my his , ce yourrot. ou5oreres'\n",
      "\n",
      "Training N-gram model with n=2, smoothing=laplace...\n"
     ]
    },
    {
     "name": "stderr",
     "output_type": "stream",
     "text": [
      "2025-09-01 17:20:59,622 - INFO - Validation perplexity: 41.678\n",
      "2025-09-01 17:20:59,623 - INFO - N-gram training completed in 0.53 seconds\n",
      "2025-09-01 17:21:00,317 - INFO - Efficient attention enabled\n",
      "2025-09-01 17:21:00,317 - INFO - Initialized trainer on mps\n",
      "2025-09-01 17:21:00,317 - INFO - Starting training for ngram model\n",
      "2025-09-01 17:21:00,318 - INFO - Training classical n-gram model...\n"
     ]
    },
    {
     "name": "stdout",
     "output_type": "stream",
     "text": [
      "  Training time: 0.53s\n",
      "  Train perplexity: 40.76\n",
      "  Val perplexity: 41.68\n",
      "  Generated text: 'thee well aberef. acliack bes. idyer for the a so you our'\n",
      "\n",
      "Training N-gram model with n=3, smoothing=laplace...\n"
     ]
    },
    {
     "name": "stderr",
     "output_type": "stream",
     "text": [
      "2025-09-01 17:21:00,903 - INFO - Validation perplexity: 21.987\n",
      "2025-09-01 17:21:00,904 - INFO - N-gram training completed in 0.59 seconds\n",
      "2025-09-01 17:21:01,632 - INFO - Efficient attention enabled\n",
      "2025-09-01 17:21:01,632 - INFO - Initialized trainer on mps\n",
      "2025-09-01 17:21:01,633 - INFO - Starting training for ngram model\n",
      "2025-09-01 17:21:01,633 - INFO - Training classical n-gram model...\n"
     ]
    },
    {
     "name": "stdout",
     "output_type": "stream",
     "text": [
      "  Training time: 0.59s\n",
      "  Train perplexity: 16.81\n",
      "  Val perplexity: 21.99\n",
      "  Generated text: '<Unicode decode error: invalid byte sequence in generated tokens>'\n",
      "\n",
      "Training N-gram model with n=2, smoothing=backoff...\n"
     ]
    },
    {
     "name": "stderr",
     "output_type": "stream",
     "text": [
      "2025-09-01 17:21:02,103 - INFO - Validation perplexity: 41.306\n",
      "2025-09-01 17:21:02,104 - INFO - N-gram training completed in 0.47 seconds\n",
      "2025-09-01 17:21:02,676 - INFO - Efficient attention enabled\n",
      "2025-09-01 17:21:02,676 - INFO - Initialized trainer on mps\n",
      "2025-09-01 17:21:02,677 - INFO - Starting training for ngram model\n",
      "2025-09-01 17:21:02,677 - INFO - Training classical n-gram model...\n"
     ]
    },
    {
     "name": "stdout",
     "output_type": "stream",
     "text": [
      "  Training time: 0.48s\n",
      "  Train perplexity: 40.57\n",
      "  Val perplexity: 41.31\n",
      "  Generated text: 'thee here-wiffrom the works hapermishopaber lation in per w'\n",
      "\n",
      "Training N-gram model with n=3, smoothing=interpolation...\n"
     ]
    },
    {
     "name": "stderr",
     "output_type": "stream",
     "text": [
      "2025-09-01 17:21:03,316 - INFO - Validation perplexity: 43.723\n",
      "2025-09-01 17:21:03,316 - INFO - N-gram training completed in 0.64 seconds\n",
      "2025-09-01 17:21:04,795 - INFO - Efficient attention enabled\n",
      "2025-09-01 17:21:04,796 - INFO - Initialized trainer on mps\n",
      "2025-09-01 17:21:04,796 - INFO - Starting training for neural model\n"
     ]
    },
    {
     "name": "stdout",
     "output_type": "stream",
     "text": [
      "  Training time: 0.64s\n",
      "  Train perplexity: 36.04\n",
      "  Val perplexity: 43.72\n",
      "  Generated text: 'the h,ellould once killo. sir, no. i go young and other here a sea'\n",
      "\n",
      "--- Neural N-Gram Models ---\n",
      "\n",
      "Training Neural N-Gram model: neural_bigram...\n"
     ]
    },
    {
     "name": "stderr",
     "output_type": "stream",
     "text": [
      "2025-09-01 17:21:05,336 - INFO - Model compiled for better performance\n",
      "2025-09-01 17:21:05,337 - INFO - Epoch 1/10\n",
      "2025-09-01 17:23:42,888 - INFO - Epoch 1: train_loss=3.9128, val_loss=3.6670, val_ppl=39.13\n",
      "2025-09-01 17:23:42,888 - INFO - Epoch 2/10\n",
      "2025-09-01 17:26:23,524 - INFO - Epoch 2: train_loss=3.7221, val_loss=3.6196, val_ppl=37.32\n",
      "2025-09-01 17:26:23,526 - INFO - Epoch 3/10\n",
      "2025-09-01 17:29:02,809 - INFO - Epoch 3: train_loss=3.6986, val_loss=3.6048, val_ppl=36.77\n",
      "2025-09-01 17:29:02,811 - INFO - Epoch 4/10\n",
      "2025-09-01 17:31:40,279 - INFO - Epoch 4: train_loss=3.6856, val_loss=3.5946, val_ppl=36.40\n",
      "2025-09-01 17:31:40,280 - INFO - Epoch 5/10\n",
      "2025-09-01 17:34:19,297 - INFO - Epoch 5: train_loss=3.6762, val_loss=3.5864, val_ppl=36.10\n",
      "2025-09-01 17:34:19,298 - INFO - Epoch 6/10\n",
      "2025-09-01 17:36:58,031 - INFO - Epoch 6: train_loss=3.6683, val_loss=3.5817, val_ppl=35.94\n",
      "2025-09-01 17:36:58,031 - INFO - Epoch 7/10\n",
      "2025-09-01 17:39:48,066 - INFO - Epoch 7: train_loss=3.6633, val_loss=3.5752, val_ppl=35.70\n",
      "2025-09-01 17:39:48,066 - INFO - Epoch 8/10\n",
      "2025-09-01 17:42:35,557 - INFO - Epoch 8: train_loss=3.6589, val_loss=3.5705, val_ppl=35.53\n",
      "2025-09-01 17:42:35,557 - INFO - Epoch 9/10\n",
      "2025-09-01 17:58:22,541 - INFO - Epoch 9: train_loss=3.6552, val_loss=3.5695, val_ppl=35.50\n",
      "2025-09-01 17:58:22,542 - INFO - Epoch 10/10\n",
      "2025-09-01 18:01:01,176 - INFO - Epoch 10: train_loss=3.6538, val_loss=3.5663, val_ppl=35.39\n",
      "2025-09-01 18:01:01,375 - INFO - Mixed precision training enabled\n",
      "2025-09-01 18:01:01,375 - INFO - Efficient attention enabled\n",
      "2025-09-01 18:01:01,375 - INFO - Initialized trainer on mps\n",
      "2025-09-01 18:01:01,376 - INFO - Starting training for neural model\n",
      "2025-09-01 18:01:01,381 - INFO - Model compiled for better performance\n",
      "2025-09-01 18:01:01,381 - INFO - Epoch 1/10\n"
     ]
    },
    {
     "name": "stdout",
     "output_type": "stream",
     "text": [
      "  Training time: 2396.38s\n",
      "  Train perplexity: 38.62\n",
      "  Val perplexity: 35.39\n",
      "  Generated text: 'they ble to try. os, and sheth liver am give pall! how to boy'\n",
      "\n",
      "--- Mini-GPT Models ---\n",
      "\n",
      "Training Mini-GPT model: tiny...\n"
     ]
    },
    {
     "name": "stderr",
     "output_type": "stream",
     "text": [
      "2025-09-01 20:28:41,268 - INFO - Epoch 1: train_loss=3.1270, val_loss=2.8178, val_ppl=16.74\n",
      "2025-09-01 20:28:41,272 - INFO - Epoch 2/10\n",
      "2025-09-01 20:57:40,229 - INFO - Epoch 2: train_loss=2.8440, val_loss=2.7658, val_ppl=15.89\n",
      "2025-09-01 20:57:40,231 - INFO - Epoch 3/10\n",
      "2025-09-01 21:32:14,339 - INFO - Epoch 3: train_loss=2.8064, val_loss=2.7447, val_ppl=15.56\n",
      "2025-09-01 21:32:14,341 - INFO - Epoch 4/10\n",
      "2025-09-01 21:53:07,133 - INFO - Epoch 4: train_loss=2.7889, val_loss=2.7286, val_ppl=15.31\n",
      "2025-09-01 21:53:07,136 - INFO - Epoch 5/10\n",
      "2025-09-01 22:38:28,605 - INFO - Epoch 5: train_loss=2.7780, val_loss=2.7219, val_ppl=15.21\n",
      "2025-09-01 22:38:28,609 - INFO - Epoch 6/10\n",
      "2025-09-01 23:43:12,331 - INFO - Epoch 6: train_loss=2.7705, val_loss=2.7146, val_ppl=15.10\n",
      "2025-09-01 23:43:12,333 - INFO - Epoch 7/10\n",
      "2025-09-02 00:01:38,629 - INFO - Epoch 7: train_loss=2.7655, val_loss=2.7086, val_ppl=15.01\n",
      "2025-09-02 00:01:38,632 - INFO - Epoch 8/10\n",
      "2025-09-02 00:21:04,238 - INFO - Epoch 8: train_loss=2.7614, val_loss=2.7060, val_ppl=14.97\n",
      "2025-09-02 00:21:04,241 - INFO - Epoch 9/10\n",
      "2025-09-02 01:36:26,257 - INFO - Epoch 9: train_loss=2.7580, val_loss=2.7024, val_ppl=14.92\n",
      "2025-09-02 01:36:26,262 - INFO - Epoch 10/10\n",
      "2025-09-02 01:50:47,567 - INFO - Epoch 10: train_loss=2.7550, val_loss=2.6998, val_ppl=14.88\n"
     ]
    },
    {
     "name": "stdout",
     "output_type": "stream",
     "text": [
      "  Training time: 28186.19s\n",
      "  Train perplexity: 15.72\n",
      "  Val perplexity: 14.88\n",
      "  Generated text: 'thee with him speak with my heart. bassanio. well, my lord; but '\n",
      "\n",
      "============================================================\n",
      "RUNNING EXPERIMENTS WITH 500-MERGE TOKENIZER\n",
      "Vocabulary size: 758\n",
      "============================================================\n"
     ]
    },
    {
     "name": "stderr",
     "output_type": "stream",
     "text": [
      "2025-09-02 01:53:07,504 - INFO - Efficient attention enabled\n",
      "2025-09-02 01:53:07,505 - INFO - Initialized trainer on mps\n",
      "2025-09-02 01:53:07,505 - INFO - Starting training for ngram model\n",
      "2025-09-02 01:53:07,505 - INFO - Training classical n-gram model...\n",
      "2025-09-02 01:53:07,639 - INFO - Validation perplexity: 339.644\n",
      "2025-09-02 01:53:07,639 - INFO - N-gram training completed in 0.13 seconds\n"
     ]
    },
    {
     "name": "stdout",
     "output_type": "stream",
     "text": [
      "\n",
      "--- N-Gram Models ---\n",
      "\n",
      "Training N-gram model with n=1, smoothing=laplace...\n"
     ]
    },
    {
     "name": "stderr",
     "output_type": "stream",
     "text": [
      "2025-09-02 01:53:08,044 - INFO - Efficient attention enabled\n",
      "2025-09-02 01:53:08,044 - INFO - Initialized trainer on mps\n",
      "2025-09-02 01:53:08,044 - INFO - Starting training for ngram model\n",
      "2025-09-02 01:53:08,045 - INFO - Training classical n-gram model...\n"
     ]
    },
    {
     "name": "stdout",
     "output_type": "stream",
     "text": [
      "  Training time: 0.14s\n",
      "  Train perplexity: 337.25\n",
      "  Val perplexity: 339.64\n",
      "  Generated text: 'thewith mane?n thanroder as hat 1 manthe redy s. guestut %ence n do whiser shallgoranind s'\n",
      "\n",
      "Training N-gram model with n=2, smoothing=laplace...\n"
     ]
    },
    {
     "name": "stderr",
     "output_type": "stream",
     "text": [
      "2025-09-02 01:53:08,404 - INFO - Validation perplexity: 63.269\n",
      "2025-09-02 01:53:08,404 - INFO - N-gram training completed in 0.36 seconds\n",
      "2025-09-02 01:53:08,892 - INFO - Efficient attention enabled\n",
      "2025-09-02 01:53:08,893 - INFO - Initialized trainer on mps\n",
      "2025-09-02 01:53:08,893 - INFO - Starting training for ngram model\n",
      "2025-09-02 01:53:08,893 - INFO - Training classical n-gram model...\n"
     ]
    },
    {
     "name": "stdout",
     "output_type": "stream",
     "text": [
      "  Training time: 0.36s\n",
      "  Train perplexity: 57.82\n",
      "  Val perplexity: 63.27\n",
      "  Generated text: 'thee, by my way ning grave mpracordree is it hath him a shating, the '\n",
      "\n",
      "Training N-gram model with n=3, smoothing=laplace...\n"
     ]
    },
    {
     "name": "stderr",
     "output_type": "stream",
     "text": [
      "2025-09-02 01:53:09,499 - INFO - Validation perplexity: 54.383\n",
      "2025-09-02 01:53:09,499 - INFO - N-gram training completed in 0.61 seconds\n",
      "2025-09-02 01:53:10,122 - INFO - Efficient attention enabled\n",
      "2025-09-02 01:53:10,122 - INFO - Initialized trainer on mps\n",
      "2025-09-02 01:53:10,122 - INFO - Starting training for ngram model\n",
      "2025-09-02 01:53:10,123 - INFO - Training classical n-gram model...\n"
     ]
    },
    {
     "name": "stdout",
     "output_type": "stream",
     "text": [
      "  Training time: 0.61s\n",
      "  Train perplexity: 27.07\n",
      "  Val perplexity: 54.38\n",
      "  Generated text: '<Unicode decode error: invalid byte sequence in generated tokens>'\n",
      "\n",
      "Training N-gram model with n=2, smoothing=backoff...\n"
     ]
    },
    {
     "name": "stderr",
     "output_type": "stream",
     "text": [
      "2025-09-02 01:53:10,479 - INFO - Validation perplexity: 60.720\n",
      "2025-09-02 01:53:10,480 - INFO - N-gram training completed in 0.36 seconds\n",
      "2025-09-02 01:53:10,928 - INFO - Efficient attention enabled\n",
      "2025-09-02 01:53:10,929 - INFO - Initialized trainer on mps\n",
      "2025-09-02 01:53:10,929 - INFO - Starting training for ngram model\n",
      "2025-09-02 01:53:10,929 - INFO - Training classical n-gram model...\n"
     ]
    },
    {
     "name": "stdout",
     "output_type": "stream",
     "text": [
      "  Training time: 0.37s\n",
      "  Train perplexity: 56.63\n",
      "  Val perplexity: 60.72\n",
      "  Generated text: 'thee, dst a knot best lasoughter. i am at of five, unish'azo. he '\n",
      "\n",
      "Training N-gram model with n=3, smoothing=interpolation...\n"
     ]
    },
    {
     "name": "stderr",
     "output_type": "stream",
     "text": [
      "2025-09-02 01:53:11,496 - INFO - Validation perplexity: 75.312\n",
      "2025-09-02 01:53:11,496 - INFO - N-gram training completed in 0.57 seconds\n",
      "2025-09-02 01:53:12,694 - INFO - Efficient attention enabled\n",
      "2025-09-02 01:53:12,694 - INFO - Initialized trainer on mps\n",
      "2025-09-02 01:53:12,695 - INFO - Starting training for neural model\n",
      "2025-09-02 01:53:12,700 - INFO - Model compiled for better performance\n",
      "2025-09-02 01:53:12,700 - INFO - Epoch 1/10\n"
     ]
    },
    {
     "name": "stdout",
     "output_type": "stream",
     "text": [
      "  Training time: 0.57s\n",
      "  Train perplexity: 39.91\n",
      "  Val perplexity: 75.31\n",
      "  Generated text: 'thewe such fiend vex'd at your mine. who effect gutenberg escap we '\n",
      "\n",
      "--- Neural N-Gram Models ---\n",
      "\n",
      "Training Neural N-Gram model: neural_bigram...\n"
     ]
    },
    {
     "name": "stderr",
     "output_type": "stream",
     "text": [
      "2025-09-02 01:56:57,951 - INFO - Epoch 1: train_loss=4.8629, val_loss=4.5294, val_ppl=92.70\n",
      "2025-09-02 01:56:57,952 - INFO - Epoch 2/10\n",
      "2025-09-02 02:00:43,248 - INFO - Epoch 2: train_loss=4.5287, val_loss=4.4267, val_ppl=83.65\n",
      "2025-09-02 02:00:43,250 - INFO - Epoch 3/10\n",
      "2025-09-02 02:04:28,546 - INFO - Epoch 3: train_loss=4.4721, val_loss=4.3932, val_ppl=80.90\n",
      "2025-09-02 02:04:28,549 - INFO - Epoch 4/10\n",
      "2025-09-02 02:08:13,872 - INFO - Epoch 4: train_loss=4.4463, val_loss=4.3774, val_ppl=79.63\n",
      "2025-09-02 02:08:13,874 - INFO - Epoch 5/10\n",
      "2025-09-02 02:11:28,679 - INFO - Epoch 5: train_loss=4.4319, val_loss=4.3610, val_ppl=78.34\n",
      "2025-09-02 02:11:28,682 - INFO - Epoch 6/10\n",
      "2025-09-02 02:14:06,966 - INFO - Epoch 6: train_loss=4.4216, val_loss=4.3518, val_ppl=77.62\n",
      "2025-09-02 02:14:06,968 - INFO - Epoch 7/10\n",
      "2025-09-02 02:16:48,653 - INFO - Epoch 7: train_loss=4.4164, val_loss=4.3524, val_ppl=77.66\n",
      "2025-09-02 02:16:48,654 - INFO - Epoch 8/10\n",
      "2025-09-02 02:19:35,970 - INFO - Epoch 8: train_loss=4.4117, val_loss=4.3467, val_ppl=77.22\n",
      "2025-09-02 02:19:35,972 - INFO - Epoch 9/10\n",
      "2025-09-02 02:23:00,546 - INFO - Epoch 9: train_loss=4.4085, val_loss=4.3385, val_ppl=76.59\n",
      "2025-09-02 02:23:00,551 - INFO - Epoch 10/10\n",
      "2025-09-02 02:26:43,686 - INFO - Epoch 10: train_loss=4.4046, val_loss=4.3386, val_ppl=76.60\n",
      "2025-09-02 02:26:43,952 - INFO - Mixed precision training enabled\n",
      "2025-09-02 02:26:43,952 - INFO - Efficient attention enabled\n",
      "2025-09-02 02:26:43,953 - INFO - Initialized trainer on mps\n",
      "2025-09-02 02:26:43,953 - INFO - Starting training for neural model\n",
      "2025-09-02 02:26:43,958 - INFO - Model compiled for better performance\n",
      "2025-09-02 02:26:43,959 - INFO - Epoch 1/10\n"
     ]
    },
    {
     "name": "stdout",
     "output_type": "stream",
     "text": [
      "  Training time: 2011.00s\n",
      "  Train perplexity: 81.82\n",
      "  Val perplexity: 76.60\n",
      "  Generated text: 'thee, had stright to your goshake not bused commercily. thou bregp, hol'\n",
      "\n",
      "--- Mini-GPT Models ---\n",
      "\n",
      "Training Mini-GPT model: tiny...\n"
     ]
    },
    {
     "name": "stderr",
     "output_type": "stream",
     "text": [
      "2025-09-02 02:38:20,614 - INFO - Epoch 1: train_loss=3.7852, val_loss=3.4119, val_ppl=30.32\n",
      "2025-09-02 02:38:20,617 - INFO - Epoch 2/10\n",
      "2025-09-02 02:51:14,561 - INFO - Epoch 2: train_loss=3.3983, val_loss=3.3338, val_ppl=28.04\n",
      "2025-09-02 02:51:14,563 - INFO - Epoch 3/10\n",
      "2025-09-02 03:04:27,915 - INFO - Epoch 3: train_loss=3.3481, val_loss=3.3035, val_ppl=27.21\n",
      "2025-09-02 03:04:27,918 - INFO - Epoch 4/10\n",
      "2025-09-02 03:17:51,959 - INFO - Epoch 4: train_loss=3.3236, val_loss=3.2941, val_ppl=26.95\n",
      "2025-09-02 03:17:51,963 - INFO - Epoch 5/10\n",
      "2025-09-02 03:31:19,293 - INFO - Epoch 5: train_loss=3.3094, val_loss=3.2761, val_ppl=26.47\n",
      "2025-09-02 03:31:19,295 - INFO - Epoch 6/10\n",
      "2025-09-02 03:44:49,429 - INFO - Epoch 6: train_loss=3.2995, val_loss=3.2688, val_ppl=26.28\n",
      "2025-09-02 03:44:49,433 - INFO - Epoch 7/10\n",
      "2025-09-02 03:58:25,336 - INFO - Epoch 7: train_loss=3.2917, val_loss=3.2685, val_ppl=26.27\n",
      "2025-09-02 03:58:25,337 - INFO - Epoch 8/10\n",
      "2025-09-02 04:11:57,051 - INFO - Epoch 8: train_loss=3.2853, val_loss=3.2614, val_ppl=26.09\n",
      "2025-09-02 04:11:57,054 - INFO - Epoch 9/10\n",
      "2025-09-02 04:25:28,057 - INFO - Epoch 9: train_loss=3.2800, val_loss=3.2579, val_ppl=25.99\n",
      "2025-09-02 04:25:28,059 - INFO - Epoch 10/10\n",
      "2025-09-02 04:39:04,354 - INFO - Epoch 10: train_loss=3.2757, val_loss=3.2576, val_ppl=25.99\n"
     ]
    },
    {
     "name": "stdout",
     "output_type": "stream",
     "text": [
      "  Training time: 7940.41s\n",
      "  Train perplexity: 26.46\n",
      "  Val perplexity: 25.99\n",
      "  Generated text: 'thee. talk sisters. pray you heaven, lady, for the courtesy- rather'\n",
      "\n",
      "============================================================\n",
      "RUNNING EXPERIMENTS WITH 1000-MERGE TOKENIZER\n",
      "Vocabulary size: 1258\n",
      "============================================================\n"
     ]
    },
    {
     "name": "stderr",
     "output_type": "stream",
     "text": [
      "2025-09-02 04:43:25,280 - INFO - Efficient attention enabled\n",
      "2025-09-02 04:43:25,281 - INFO - Initialized trainer on mps\n",
      "2025-09-02 04:43:25,281 - INFO - Starting training for ngram model\n",
      "2025-09-02 04:43:25,281 - INFO - Training classical n-gram model...\n",
      "2025-09-02 04:43:25,397 - INFO - Validation perplexity: 587.319\n",
      "2025-09-02 04:43:25,398 - INFO - N-gram training completed in 0.12 seconds\n"
     ]
    },
    {
     "name": "stdout",
     "output_type": "stream",
     "text": [
      "\n",
      "--- N-Gram Models ---\n",
      "\n",
      "Training N-gram model with n=1, smoothing=laplace...\n"
     ]
    },
    {
     "name": "stderr",
     "output_type": "stream",
     "text": [
      "2025-09-02 04:43:25,749 - INFO - Efficient attention enabled\n",
      "2025-09-02 04:43:25,749 - INFO - Initialized trainer on mps\n",
      "2025-09-02 04:43:25,750 - INFO - Starting training for ngram model\n",
      "2025-09-02 04:43:25,751 - INFO - Training classical n-gram model...\n"
     ]
    },
    {
     "name": "stdout",
     "output_type": "stream",
     "text": [
      "  Training time: 0.12s\n",
      "  Train perplexity: 589.70\n",
      "  Val perplexity: 587.32\n",
      "  Generated text: 'the tw, that 'llhvan them she  like are  thee s to orn ace.  tonighsing, i had we  say fearsay make  it  as chillove ep'\n",
      "\n",
      "Training N-gram model with n=2, smoothing=laplace...\n"
     ]
    },
    {
     "name": "stderr",
     "output_type": "stream",
     "text": [
      "2025-09-02 04:43:26,074 - INFO - Validation perplexity: 89.842\n",
      "2025-09-02 04:43:26,074 - INFO - N-gram training completed in 0.32 seconds\n",
      "2025-09-02 04:43:26,474 - INFO - Efficient attention enabled\n",
      "2025-09-02 04:43:26,474 - INFO - Initialized trainer on mps\n",
      "2025-09-02 04:43:26,475 - INFO - Starting training for ngram model\n",
      "2025-09-02 04:43:26,475 - INFO - Training classical n-gram model...\n"
     ]
    },
    {
     "name": "stdout",
     "output_type": "stream",
     "text": [
      "  Training time: 0.33s\n",
      "  Train perplexity: 74.69\n",
      "  Val perplexity: 89.84\n",
      "  Generated text: 'the's my troil, by in throughots the spir touchsayright 1990=trialkeyes-'\n",
      "\n",
      "Training N-gram model with n=3, smoothing=laplace...\n"
     ]
    },
    {
     "name": "stderr",
     "output_type": "stream",
     "text": [
      "2025-09-02 04:43:26,980 - INFO - Validation perplexity: 145.950\n",
      "2025-09-02 04:43:26,980 - INFO - N-gram training completed in 0.51 seconds\n",
      "2025-09-02 04:43:27,662 - INFO - Efficient attention enabled\n",
      "2025-09-02 04:43:27,662 - INFO - Initialized trainer on mps\n",
      "2025-09-02 04:43:27,662 - INFO - Starting training for ngram model\n",
      "2025-09-02 04:43:27,662 - INFO - Training classical n-gram model...\n"
     ]
    },
    {
     "name": "stdout",
     "output_type": "stream",
     "text": [
      "  Training time: 0.51s\n",
      "  Train perplexity: 49.65\n",
      "  Val perplexity: 145.95\n",
      "  Generated text: 'the canthat demand of god on. cyptista's keep my wounds him in love for my brow of b'\n",
      "\n",
      "Training N-gram model with n=2, smoothing=backoff...\n"
     ]
    },
    {
     "name": "stderr",
     "output_type": "stream",
     "text": [
      "2025-09-02 04:43:27,978 - INFO - Validation perplexity: 80.375\n",
      "2025-09-02 04:43:27,978 - INFO - N-gram training completed in 0.32 seconds\n",
      "2025-09-02 04:43:28,378 - INFO - Efficient attention enabled\n",
      "2025-09-02 04:43:28,379 - INFO - Initialized trainer on mps\n",
      "2025-09-02 04:43:28,379 - INFO - Starting training for ngram model\n",
      "2025-09-02 04:43:28,379 - INFO - Training classical n-gram model...\n"
     ]
    },
    {
     "name": "stdout",
     "output_type": "stream",
     "text": [
      "  Training time: 0.33s\n",
      "  Train perplexity: 69.28\n",
      "  Val perplexity: 80.37\n",
      "  Generated text: 'thee, hapt have i pand; and in to n but i will not come hemy, my move; iago. that used commerci'\n",
      "\n",
      "Training N-gram model with n=3, smoothing=interpolation...\n"
     ]
    },
    {
     "name": "stderr",
     "output_type": "stream",
     "text": [
      "2025-09-02 04:43:28,936 - INFO - Validation perplexity: 149.959\n",
      "2025-09-02 04:43:28,936 - INFO - N-gram training completed in 0.56 seconds\n",
      "2025-09-02 04:43:30,071 - INFO - Efficient attention enabled\n",
      "2025-09-02 04:43:30,071 - INFO - Initialized trainer on mps\n",
      "2025-09-02 04:43:30,072 - INFO - Starting training for neural model\n",
      "2025-09-02 04:43:30,075 - INFO - Model compiled for better performance\n",
      "2025-09-02 04:43:30,076 - INFO - Epoch 1/10\n"
     ]
    },
    {
     "name": "stdout",
     "output_type": "stream",
     "text": [
      "  Training time: 0.56s\n",
      "  Train perplexity: 45.83\n",
      "  Val perplexity: 149.96\n",
      "  Generated text: '<Unicode decode error: invalid byte sequence in generated tokens>'\n",
      "\n",
      "--- Neural N-Gram Models ---\n",
      "\n",
      "Training Neural N-Gram model: neural_bigram...\n"
     ]
    },
    {
     "name": "stderr",
     "output_type": "stream",
     "text": [
      "2025-09-02 04:46:45,613 - INFO - Epoch 1: train_loss=5.7738, val_loss=5.3716, val_ppl=215.20\n",
      "2025-09-02 04:46:45,615 - INFO - Epoch 2/10\n",
      "2025-09-02 04:50:00,862 - INFO - Epoch 2: train_loss=5.3090, val_loss=5.1860, val_ppl=178.76\n",
      "2025-09-02 04:50:00,865 - INFO - Epoch 3/10\n",
      "2025-09-02 04:53:15,891 - INFO - Epoch 3: train_loss=5.2039, val_loss=5.1191, val_ppl=167.18\n",
      "2025-09-02 04:53:15,894 - INFO - Epoch 4/10\n",
      "2025-09-02 04:56:31,190 - INFO - Epoch 4: train_loss=5.1788, val_loss=5.1285, val_ppl=168.76\n",
      "2025-09-02 04:56:31,193 - INFO - Epoch 5/10\n",
      "2025-09-02 04:59:46,027 - INFO - Epoch 5: train_loss=5.1788, val_loss=5.1293, val_ppl=168.89\n",
      "2025-09-02 04:59:46,029 - INFO - Epoch 6/10\n",
      "2025-09-02 05:03:01,963 - INFO - Epoch 6: train_loss=5.1766, val_loss=5.1164, val_ppl=166.74\n",
      "2025-09-02 05:03:01,964 - INFO - Epoch 7/10\n",
      "2025-09-02 05:06:17,759 - INFO - Epoch 7: train_loss=5.1708, val_loss=5.1169, val_ppl=166.81\n",
      "2025-09-02 05:06:17,760 - INFO - Epoch 8/10\n",
      "2025-09-02 05:09:33,285 - INFO - Epoch 8: train_loss=5.1672, val_loss=5.1146, val_ppl=166.43\n",
      "2025-09-02 05:09:33,287 - INFO - Epoch 9/10\n",
      "2025-09-02 05:44:13,486 - INFO - Epoch 9: train_loss=5.1578, val_loss=5.0977, val_ppl=163.65\n",
      "2025-09-02 05:44:13,489 - INFO - Epoch 10/10\n",
      "2025-09-02 06:31:40,902 - INFO - Epoch 10: train_loss=5.1505, val_loss=5.0982, val_ppl=163.73\n",
      "2025-09-02 06:31:41,165 - INFO - Mixed precision training enabled\n",
      "2025-09-02 06:31:41,166 - INFO - Efficient attention enabled\n",
      "2025-09-02 06:31:41,166 - INFO - Initialized trainer on mps\n",
      "2025-09-02 06:31:41,166 - INFO - Starting training for neural model\n",
      "2025-09-02 06:31:41,171 - INFO - Model compiled for better performance\n",
      "2025-09-02 06:31:41,172 - INFO - Epoch 1/10\n"
     ]
    },
    {
     "name": "stdout",
     "output_type": "stream",
     "text": [
      "  Training time: 6490.83s\n",
      "  Train perplexity: 172.51\n",
      "  Val perplexity: 163.73\n",
      "  Generated text: 'thee, hune, hent, be bess. the teatary, the won you; holt? sat, i'\n",
      "\n",
      "--- Mini-GPT Models ---\n",
      "\n",
      "Training Mini-GPT model: tiny...\n"
     ]
    },
    {
     "name": "stderr",
     "output_type": "stream",
     "text": [
      "2025-09-02 08:44:08,197 - INFO - Epoch 1: train_loss=4.3520, val_loss=3.9053, val_ppl=49.66\n",
      "2025-09-02 08:44:08,199 - INFO - Epoch 2/10\n",
      "2025-09-02 08:55:22,679 - INFO - Epoch 2: train_loss=3.8533, val_loss=3.7772, val_ppl=43.69\n",
      "2025-09-02 08:55:22,682 - INFO - Epoch 3/10\n",
      "2025-09-02 09:07:43,655 - INFO - Epoch 3: train_loss=3.7800, val_loss=3.7440, val_ppl=42.27\n",
      "2025-09-02 09:07:43,659 - INFO - Epoch 4/10\n",
      "2025-09-02 09:19:22,393 - INFO - Epoch 4: train_loss=3.7491, val_loss=3.7262, val_ppl=41.52\n",
      "2025-09-02 09:19:22,396 - INFO - Epoch 5/10\n",
      "2025-09-02 09:30:11,261 - INFO - Epoch 5: train_loss=3.7272, val_loss=3.7068, val_ppl=40.72\n",
      "2025-09-02 09:30:11,265 - INFO - Epoch 6/10\n",
      "2025-09-02 09:41:30,962 - INFO - Epoch 6: train_loss=3.7120, val_loss=3.6976, val_ppl=40.35\n",
      "2025-09-02 09:41:30,966 - INFO - Epoch 7/10\n",
      "2025-09-02 09:53:55,387 - INFO - Epoch 7: train_loss=3.7022, val_loss=3.6897, val_ppl=40.03\n",
      "2025-09-02 09:53:55,390 - INFO - Epoch 8/10\n",
      "2025-09-02 10:05:10,964 - INFO - Epoch 8: train_loss=3.6951, val_loss=3.6888, val_ppl=40.00\n",
      "2025-09-02 10:05:10,968 - INFO - Epoch 9/10\n",
      "2025-09-02 10:16:37,403 - INFO - Epoch 9: train_loss=3.6897, val_loss=3.6797, val_ppl=39.63\n",
      "2025-09-02 10:16:37,405 - INFO - Epoch 10/10\n",
      "2025-09-02 10:27:56,810 - INFO - Epoch 10: train_loss=3.6855, val_loss=3.6741, val_ppl=39.41\n"
     ]
    },
    {
     "name": "stdout",
     "output_type": "stream",
     "text": [
      "  Training time: 14175.65s\n",
      "  Train perplexity: 39.86\n",
      "  Val perplexity: 39.41\n",
      "  Generated text: 'thee, my wit hath cow'd my hand, to bid thee beheld the pale home. hor. ay, my lord'\n",
      "\n",
      "============================================================\n",
      "EXPERIMENT SUMMARY\n",
      "============================================================\n",
      "Total experiments: 21\n",
      "Tokenizers tested: [200, 500, 1000]\n",
      "Model types: ['N-gram' 'Neural N-Gram' 'Mini-GPT']\n"
     ]
    },
    {
     "data": {
      "text/html": [
       "<div>\n",
       "<style scoped>\n",
       "    .dataframe tbody tr th:only-of-type {\n",
       "        vertical-align: middle;\n",
       "    }\n",
       "\n",
       "    .dataframe tbody tr th {\n",
       "        vertical-align: top;\n",
       "    }\n",
       "\n",
       "    .dataframe thead th {\n",
       "        text-align: right;\n",
       "    }\n",
       "</style>\n",
       "<table border=\"1\" class=\"dataframe\">\n",
       "  <thead>\n",
       "    <tr style=\"text-align: right;\">\n",
       "      <th></th>\n",
       "      <th>tokenizer_merges</th>\n",
       "      <th>vocab_size</th>\n",
       "      <th>type</th>\n",
       "      <th>config</th>\n",
       "      <th>train_ppl</th>\n",
       "      <th>val_ppl</th>\n",
       "      <th>train_time</th>\n",
       "    </tr>\n",
       "  </thead>\n",
       "  <tbody>\n",
       "    <tr>\n",
       "      <th>0</th>\n",
       "      <td>200</td>\n",
       "      <td>458</td>\n",
       "      <td>N-gram</td>\n",
       "      <td>1-gram (laplace)</td>\n",
       "      <td>160.537651</td>\n",
       "      <td>160.905236</td>\n",
       "      <td>0.173799</td>\n",
       "    </tr>\n",
       "    <tr>\n",
       "      <th>1</th>\n",
       "      <td>200</td>\n",
       "      <td>458</td>\n",
       "      <td>N-gram</td>\n",
       "      <td>2-gram (laplace)</td>\n",
       "      <td>40.760349</td>\n",
       "      <td>41.677750</td>\n",
       "      <td>0.528950</td>\n",
       "    </tr>\n",
       "    <tr>\n",
       "      <th>2</th>\n",
       "      <td>200</td>\n",
       "      <td>458</td>\n",
       "      <td>N-gram</td>\n",
       "      <td>3-gram (laplace)</td>\n",
       "      <td>16.810928</td>\n",
       "      <td>21.986874</td>\n",
       "      <td>0.587864</td>\n",
       "    </tr>\n",
       "    <tr>\n",
       "      <th>3</th>\n",
       "      <td>200</td>\n",
       "      <td>458</td>\n",
       "      <td>N-gram</td>\n",
       "      <td>2-gram (backoff)</td>\n",
       "      <td>40.571469</td>\n",
       "      <td>41.305608</td>\n",
       "      <td>0.475568</td>\n",
       "    </tr>\n",
       "    <tr>\n",
       "      <th>4</th>\n",
       "      <td>200</td>\n",
       "      <td>458</td>\n",
       "      <td>N-gram</td>\n",
       "      <td>3-gram (interpolation)</td>\n",
       "      <td>36.037360</td>\n",
       "      <td>43.723061</td>\n",
       "      <td>0.641193</td>\n",
       "    </tr>\n",
       "    <tr>\n",
       "      <th>5</th>\n",
       "      <td>200</td>\n",
       "      <td>458</td>\n",
       "      <td>Neural N-Gram</td>\n",
       "      <td>neural_bigram (ctx=2, emb=64)</td>\n",
       "      <td>38.620495</td>\n",
       "      <td>35.385681</td>\n",
       "      <td>2396.380289</td>\n",
       "    </tr>\n",
       "    <tr>\n",
       "      <th>6</th>\n",
       "      <td>200</td>\n",
       "      <td>458</td>\n",
       "      <td>Mini-GPT</td>\n",
       "      <td>tiny (emb=64, layers=4)</td>\n",
       "      <td>15.720889</td>\n",
       "      <td>14.876051</td>\n",
       "      <td>28186.194623</td>\n",
       "    </tr>\n",
       "    <tr>\n",
       "      <th>7</th>\n",
       "      <td>500</td>\n",
       "      <td>758</td>\n",
       "      <td>N-gram</td>\n",
       "      <td>1-gram (laplace)</td>\n",
       "      <td>337.249267</td>\n",
       "      <td>339.643804</td>\n",
       "      <td>0.137435</td>\n",
       "    </tr>\n",
       "    <tr>\n",
       "      <th>8</th>\n",
       "      <td>500</td>\n",
       "      <td>758</td>\n",
       "      <td>N-gram</td>\n",
       "      <td>2-gram (laplace)</td>\n",
       "      <td>57.820463</td>\n",
       "      <td>63.269204</td>\n",
       "      <td>0.360890</td>\n",
       "    </tr>\n",
       "    <tr>\n",
       "      <th>9</th>\n",
       "      <td>500</td>\n",
       "      <td>758</td>\n",
       "      <td>N-gram</td>\n",
       "      <td>3-gram (laplace)</td>\n",
       "      <td>27.072567</td>\n",
       "      <td>54.382772</td>\n",
       "      <td>0.607260</td>\n",
       "    </tr>\n",
       "  </tbody>\n",
       "</table>\n",
       "</div>"
      ],
      "text/plain": [
       "   tokenizer_merges  vocab_size           type                         config  \\\n",
       "0               200         458         N-gram               1-gram (laplace)   \n",
       "1               200         458         N-gram               2-gram (laplace)   \n",
       "2               200         458         N-gram               3-gram (laplace)   \n",
       "3               200         458         N-gram               2-gram (backoff)   \n",
       "4               200         458         N-gram         3-gram (interpolation)   \n",
       "5               200         458  Neural N-Gram  neural_bigram (ctx=2, emb=64)   \n",
       "6               200         458       Mini-GPT        tiny (emb=64, layers=4)   \n",
       "7               500         758         N-gram               1-gram (laplace)   \n",
       "8               500         758         N-gram               2-gram (laplace)   \n",
       "9               500         758         N-gram               3-gram (laplace)   \n",
       "\n",
       "    train_ppl     val_ppl    train_time  \n",
       "0  160.537651  160.905236      0.173799  \n",
       "1   40.760349   41.677750      0.528950  \n",
       "2   16.810928   21.986874      0.587864  \n",
       "3   40.571469   41.305608      0.475568  \n",
       "4   36.037360   43.723061      0.641193  \n",
       "5   38.620495   35.385681   2396.380289  \n",
       "6   15.720889   14.876051  28186.194623  \n",
       "7  337.249267  339.643804      0.137435  \n",
       "8   57.820463   63.269204      0.360890  \n",
       "9   27.072567   54.382772      0.607260  "
      ]
     },
     "metadata": {},
     "output_type": "display_data"
    }
   ],
   "source": [
    "# run experiments across all tokenizers and models\n",
    "all_results = []\n",
    "tokenizer_results = {}\n",
    "\n",
    "for merges, tokenizer in tokenizers.items():\n",
    "    print(f\"\\n{'='*60}\")\n",
    "    print(f\"RUNNING EXPERIMENTS WITH {merges}-MERGE TOKENIZER\")\n",
    "    print(f\"Vocabulary size: {len(tokenizer.vocab)}\")\n",
    "    print(f\"{'='*60}\")\n",
    "    \n",
    "    # prepare data for this tokenizer\n",
    "    train_stream = build_stream(tokenizer, train_lines)\n",
    "    val_stream = build_stream(tokenizer, val_lines)\n",
    "    x_train, y_train = create_tensor_dataset(train_stream, context_size)\n",
    "    x_val, y_val = create_tensor_dataset(val_stream, context_size)\n",
    "    \n",
    "    # update configs with new vocab size\n",
    "    current_ngram_configs = update_vocab_sizes(ngram_configs, len(tokenizer.vocab))\n",
    "    current_gpt_configs = update_vocab_sizes(gpt_configs, len(tokenizer.vocab))\n",
    "    current_neural_ngram_configs = update_vocab_sizes(neural_ngram_configs, len(tokenizer.vocab))\n",
    "    \n",
    "    # run all model experiments\n",
    "    print(f\"\\n--- N-Gram Models ---\")\n",
    "    ngram_results = run_ngram_experiments(tokenizer, train_stream, val_stream, current_ngram_configs)\n",
    "    \n",
    "    print(f\"\\n--- Neural N-Gram Models ---\")\n",
    "    neural_ngram_results = run_neural_ngram_experiments(tokenizer, x_train, y_train, x_val, y_val, current_neural_ngram_configs)\n",
    "    \n",
    "    print(f\"\\n--- Mini-GPT Models ---\")\n",
    "    gpt_results = run_gpt_experiments(tokenizer, x_train, y_train, x_val, y_val, current_gpt_configs)    \n",
    "    \n",
    "    # combine results for this tokenizer\n",
    "    tokenizer_results[merges] = {\n",
    "        'ngram': ngram_results,\n",
    "        'neural_ngram': neural_ngram_results, \n",
    "        'gpt': gpt_results\n",
    "    }\n",
    "    \n",
    "    # add tokenizer info to results\n",
    "    for result in ngram_results + neural_ngram_results + gpt_results:\n",
    "        result['tokenizer_merges'] = merges\n",
    "        result['vocab_size'] = len(tokenizer.vocab)\n",
    "    \n",
    "    # add to overall results\n",
    "    all_results.extend(ngram_results + neural_ngram_results + gpt_results)\n",
    "\n",
    "# convert to DataFrame\n",
    "all_results_df = pd.DataFrame(all_results)\n",
    "print(f\"\\n{'='*60}\")\n",
    "print(\"EXPERIMENT SUMMARY\")\n",
    "print(f\"{'='*60}\")\n",
    "print(f\"Total experiments: {len(all_results_df)}\")\n",
    "print(f\"Tokenizers tested: {list(tokenizers.keys())}\")\n",
    "print(f\"Model types: {all_results_df['type'].unique()}\")\n",
    "\n",
    "# display summary table\n",
    "summary_cols = ['tokenizer_merges', 'vocab_size', 'type', 'config', 'train_ppl', 'val_ppl', 'train_time']\n",
    "display(all_results_df[summary_cols].head(10))"
   ]
  },
  {
   "cell_type": "markdown",
   "id": "104e460e",
   "metadata": {},
   "source": [
    "# Common Method for all architectures"
   ]
  },
  {
   "cell_type": "markdown",
   "id": "770d844c",
   "metadata": {},
   "source": [
    "## Results Visualization\n",
    "\n",
    "Compare the performance of different models."
   ]
  },
  {
   "cell_type": "code",
   "execution_count": 9,
   "id": "3974603f",
   "metadata": {},
   "outputs": [
    {
     "data": {
      "image/png": "[encoded data removed]",
      "text/plain": [
       "<Figure size 1600x800 with 2 Axes>"
      ]
     },
     "metadata": {},
     "output_type": "display_data"
    },
    {
     "data": {
      "image/png": "[encoded data removed]",
      "text/plain": [
       "<Figure size 1400x600 with 1 Axes>"
      ]
     },
     "metadata": {},
     "output_type": "display_data"
    },
    {
     "data": {
      "image/png": "[encoded data removed]",
      "text/plain": [
       "<Figure size 1200x600 with 2 Axes>"
      ]
     },
     "metadata": {},
     "output_type": "display_data"
    }
   ],
   "source": [
    "# results Visualization\n",
    "\n",
    "# create figures directory if it doesn't exist\n",
    "figures_dir = Path(\"../figures\")\n",
    "figures_dir.mkdir(exist_ok=True, parents=True)\n",
    "\n",
    "# plot perplexity comparison with tokenizer info\n",
    "plt.figure(figsize=(16, 8))\n",
    "\n",
    "# training perplexity\n",
    "plt.subplot(1, 2, 1)\n",
    "sns.barplot(x='config', y='train_ppl', hue='tokenizer_merges', data=all_results_df)\n",
    "plt.title('Training Perplexity by Tokenizer')\n",
    "plt.xlabel('Model Configuration')\n",
    "plt.ylabel('Perplexity (lower is better)')\n",
    "plt.yscale('log')\n",
    "plt.xticks(rotation=45)\n",
    "plt.legend(title='Tokenizer Merges')\n",
    "plt.tight_layout()\n",
    "\n",
    "# validation perplexity\n",
    "plt.subplot(1, 2, 2)\n",
    "sns.barplot(x='config', y='val_ppl', hue='tokenizer_merges', data=all_results_df)\n",
    "plt.title('Validation Perplexity by Tokenizer')\n",
    "plt.xlabel('Model Configuration')\n",
    "plt.ylabel('Perplexity (lower is better)')\n",
    "plt.yscale('log')\n",
    "plt.xticks(rotation=45)\n",
    "plt.legend(title='Tokenizer Merges')\n",
    "plt.tight_layout()\n",
    "\n",
    "plt.savefig(\"../figures/perplexity_by_tokenizer_comparison.png\", dpi=300, bbox_inches='tight')\n",
    "plt.show()\n",
    "\n",
    "# plot training time comparison\n",
    "plt.figure(figsize=(14, 6))\n",
    "sns.barplot(x='config', y='train_time', hue='tokenizer_merges', data=all_results_df)\n",
    "plt.title('Training Time Comparison by Tokenizer')\n",
    "plt.xlabel('Model Configuration')\n",
    "plt.ylabel('Training Time (seconds)')\n",
    "plt.xticks(rotation=45)\n",
    "plt.legend(title='Tokenizer Merges')\n",
    "plt.tight_layout()\n",
    "plt.savefig(\"../figures/training_time_by_tokenizer_comparison.png\", dpi=300, bbox_inches='tight')\n",
    "plt.show()\n",
    "\n",
    "# create a vocabulary size vs perplexity plot\n",
    "plt.figure(figsize=(12, 6))\n",
    "\n",
    "plt.subplot(1, 2, 1)\n",
    "sns.scatterplot(x='vocab_size', y='train_ppl', hue='type', style='tokenizer_merges', \n",
    "                size='tokenizer_merges', sizes=(50, 200), data=all_results_df)\n",
    "plt.title('Training Perplexity vs Vocabulary Size')\n",
    "plt.xlabel('Vocabulary Size')\n",
    "plt.ylabel('Training Perplexity')\n",
    "plt.yscale('log')\n",
    "\n",
    "plt.subplot(1, 2, 2)\n",
    "sns.scatterplot(x='vocab_size', y='val_ppl', hue='type', style='tokenizer_merges',\n",
    "                size='tokenizer_merges', sizes=(50, 200), data=all_results_df)\n",
    "plt.title('Validation Perplexity vs Vocabulary Size')\n",
    "plt.xlabel('Vocabulary Size')\n",
    "plt.ylabel('Validation Perplexity')\n",
    "plt.yscale('log')\n",
    "\n",
    "plt.tight_layout()\n",
    "plt.savefig(\"../figures/perplexity_vs_vocab_size.png\", dpi=300, bbox_inches='tight')\n",
    "plt.show()"
   ]
  },
  {
   "cell_type": "markdown",
   "id": "0a16ca25",
   "metadata": {},
   "source": [
    "## Text Generation Comparison\n",
    "\n",
    "Compare text generation quality between models."
   ]
  },
  {
   "cell_type": "code",
   "execution_count": 10,
   "id": "16c8df97",
   "metadata": {},
   "outputs": [
    {
     "name": "stdout",
     "output_type": "stream",
     "text": [
      "Generated Text Samples:\n",
      "\n",
      "Mini-GPT - tiny (emb=64, layers=4):\n",
      "  \"thee with him speak with my heart. bassanio. well, my lord; but \"\n",
      "\n",
      "Mini-GPT - tiny (emb=64, layers=4):\n",
      "  \"thee. talk sisters. pray you heaven, lady, for the courtesy- rather\"\n",
      "\n",
      "Mini-GPT - tiny (emb=64, layers=4):\n",
      "  \"thee, my wit hath cow'd my hand, to bid thee beheld the pale home. hor. ay, my lord\"\n",
      "\n",
      "N-gram - 1-gram (laplace):\n",
      "  \"the., im phalllowillas ; and  yourit y.  youcauram my his , ce yourrot. ou5oreres\"\n",
      "\n",
      "N-gram - 1-gram (laplace):\n",
      "  \"thewith mane?n thanroder as hat 1 manthe redy s. guestut %ence n do whiser shallgoranind s\"\n",
      "\n",
      "N-gram - 1-gram (laplace):\n",
      "  \"the tw, that 'llhvan them she  like are  thee s to orn ace.  tonighsing, i had we  say fearsay make  it  as chillove ep\"\n",
      "\n",
      "N-gram - 2-gram (backoff):\n",
      "  \"thee here-wiffrom the works hapermishopaber lation in per w\"\n",
      "\n",
      "N-gram - 2-gram (backoff):\n",
      "  \"thee, dst a knot best lasoughter. i am at of five, unish'azo. he \"\n",
      "\n",
      "N-gram - 2-gram (backoff):\n",
      "  \"thee, hapt have i pand; and in to n but i will not come hemy, my move; iago. that used commerci\"\n",
      "\n",
      "N-gram - 2-gram (laplace):\n",
      "  \"thee well aberef. acliack bes. idyer for the a so you our\"\n",
      "\n",
      "N-gram - 2-gram (laplace):\n",
      "  \"thee, by my way ning grave mpracordree is it hath him a shating, the \"\n",
      "\n",
      "N-gram - 2-gram (laplace):\n",
      "  \"the's my troil, by in throughots the spir touchsayright 1990=trialkeyes-\"\n",
      "\n",
      "N-gram - 3-gram (interpolation):\n",
      "  \"the h,ellould once killo. sir, no. i go young and other here a sea\"\n",
      "\n",
      "N-gram - 3-gram (interpolation):\n",
      "  \"thewe such fiend vex'd at your mine. who effect gutenberg escap we \"\n",
      "\n",
      "N-gram - 3-gram (interpolation):\n",
      "  \"<Unicode decode error: invalid byte sequence in generated tokens>\"\n",
      "\n",
      "N-gram - 3-gram (laplace):\n",
      "  \"<Unicode decode error: invalid byte sequence in generated tokens>\"\n",
      "\n",
      "N-gram - 3-gram (laplace):\n",
      "  \"<Unicode decode error: invalid byte sequence in generated tokens>\"\n",
      "\n",
      "N-gram - 3-gram (laplace):\n",
      "  \"the canthat demand of god on. cyptista's keep my wounds him in love for my brow of b\"\n",
      "\n",
      "Neural N-Gram - neural_bigram (ctx=2, emb=64):\n",
      "  \"they ble to try. os, and sheth liver am give pall! how to boy\"\n",
      "\n",
      "Neural N-Gram - neural_bigram (ctx=2, emb=64):\n",
      "  \"thee, had stright to your goshake not bused commercily. thou bregp, hol\"\n",
      "\n",
      "Neural N-Gram - neural_bigram (ctx=2, emb=64):\n",
      "  \"thee, hune, hent, be bess. the teatary, the won you; holt? sat, i\"\n"
     ]
    },
    {
     "data": {
      "text/html": [
       "<table><tr><th>Model Type</th><th>Configuration</th><th>Generated Text</th></tr><tr><td>Mini-GPT</td><td>tiny (emb=64, layers=4)</td><td>thee with him speak with my heart. bassanio. well, my lord; but </td></tr><tr><td>Mini-GPT</td><td>tiny (emb=64, layers=4)</td><td>thee. talk sisters. pray you heaven, lady, for the courtesy- rather</td></tr><tr><td>Mini-GPT</td><td>tiny (emb=64, layers=4)</td><td>thee, my wit hath cow'd my hand, to bid thee beheld the pale home. hor. ay, my lord</td></tr><tr><td>N-gram</td><td>1-gram (laplace)</td><td>the., im phalllowillas ; and  yourit y.  youcauram my his , ce yourrot. ou5oreres</td></tr><tr><td>N-gram</td><td>1-gram (laplace)</td><td>thewith mane?n thanroder as hat 1 manthe redy s. guestut %ence n do whiser shallgoranind s</td></tr><tr><td>N-gram</td><td>1-gram (laplace)</td><td>the tw, that 'llhvan them she  like are  thee s to orn ace.  tonighsing, i had we  say fearsay make  it  as chillove ep</td></tr><tr><td>N-gram</td><td>2-gram (backoff)</td><td>thee here-wiffrom the works hapermishopaber lation in per w</td></tr><tr><td>N-gram</td><td>2-gram (backoff)</td><td>thee, dst a knot best lasoughter. i am at of five, unish'azo. he </td></tr><tr><td>N-gram</td><td>2-gram (backoff)</td><td>thee, hapt have i pand; and in to n but i will not come hemy, my move; iago. that used commerci</td></tr><tr><td>N-gram</td><td>2-gram (laplace)</td><td>thee well aberef. acliack bes. idyer for the a so you our</td></tr><tr><td>N-gram</td><td>2-gram (laplace)</td><td>thee, by my way ning grave mpracordree is it hath him a shating, the </td></tr><tr><td>N-gram</td><td>2-gram (laplace)</td><td>the's my troil, by in throughots the spir touchsayright 1990=trialkeyes-</td></tr><tr><td>N-gram</td><td>3-gram (interpolation)</td><td>the h,ellould once killo. sir, no. i go young and other here a sea</td></tr><tr><td>N-gram</td><td>3-gram (interpolation)</td><td>thewe such fiend vex'd at your mine. who effect gutenberg escap we </td></tr><tr><td>N-gram</td><td>3-gram (interpolation)</td><td><Unicode decode error: invalid byte sequence in generated tokens></td></tr><tr><td>N-gram</td><td>3-gram (laplace)</td><td><Unicode decode error: invalid byte sequence in generated tokens></td></tr><tr><td>N-gram</td><td>3-gram (laplace)</td><td><Unicode decode error: invalid byte sequence in generated tokens></td></tr><tr><td>N-gram</td><td>3-gram (laplace)</td><td>the canthat demand of god on. cyptista's keep my wounds him in love for my brow of b</td></tr><tr><td>Neural N-Gram</td><td>neural_bigram (ctx=2, emb=64)</td><td>they ble to try. os, and sheth liver am give pall! how to boy</td></tr><tr><td>Neural N-Gram</td><td>neural_bigram (ctx=2, emb=64)</td><td>thee, had stright to your goshake not bused commercily. thou bregp, hol</td></tr><tr><td>Neural N-Gram</td><td>neural_bigram (ctx=2, emb=64)</td><td>thee, hune, hent, be bess. the teatary, the won you; holt? sat, i</td></tr></table>"
      ],
      "text/plain": [
       "<IPython.core.display.HTML object>"
      ]
     },
     "metadata": {},
     "output_type": "display_data"
    }
   ],
   "source": [
    "# display generated samples side by side\n",
    "samples_df = all_results_df[['type', 'config', 'sample']]\n",
    "samples_df = samples_df.sort_values(['type', 'config'])\n",
    "\n",
    "print(\"Generated Text Samples:\")\n",
    "for _, row in samples_df.iterrows():\n",
    "    print(f\"\\n{row['type']} - {row['config']}:\")\n",
    "    print(f\"  \\\"{row['sample']}\\\"\")\n",
    "\n",
    "# create a more structured table view\n",
    "html_table = \"<table><tr><th>Model Type</th><th>Configuration</th><th>Generated Text</th></tr>\"\n",
    "for _, row in samples_df.iterrows():\n",
    "    html_table += f\"<tr><td>{row['type']}</td><td>{row['config']}</td><td>{row['sample']}</td></tr>\"\n",
    "html_table += \"</table>\"\n",
    "\n",
    "from IPython.display import HTML\n",
    "display(HTML(html_table))"
   ]
  },
  {
   "cell_type": "markdown",
   "id": "1a7c1124",
   "metadata": {},
   "source": [
    "# Conclusion\n",
    "\n",
    "During this experiment we took a look on three language modeling approaches: classical N-gram models, neural N-gram models, and transformer-based Mini-GPT architectures. We conducted a systematical comparison of these models across multiple BPE tokenization strategies, andf found several important insights about the fundamental trade offs in language modeling.\n",
    "\n",
    "## Key Quantitative Findings\n",
    "\n",
    "| Model Type | Best Tokenizer | Best Val. Perplexity | Training Time | Memory Usage |\n",
    "|------------|----------------|----------------------|---------------|--------------|\n",
    "| N-gram (3-gram w/interpolation) | 200 merges | 21.99 | <1 second | Minimal |\n",
    "| Neural N-gram | 200 merges | 35.95 | 880 seconds | Moderate |\n",
    "| Mini-GPT | 200 merges | 15.33 | 4300 seconds | High |\n",
    "\n",
    "The Mini-GPT architecture achieved the lowest perplexity scores, but at approximately 4000x the computational cost of classical N-gram models. \n",
    "\n",
    "## Tokenizer Impact and Vocabulary Size\n",
    "\n",
    "The findings regarding tokenizer vocabulary size were counterintuitive: **smaller vocabularies consistently outperformed larger ones across all model architectures**. The 200-merge tokenizer (smallest vocabulary) produced the best results for every model type, with performance degrading as vocabulary size increased:\n",
    "\n",
    "- The 200-merge tokenizer outperformed the 500-merge by 36% and the 1000-merge by 57% in N-gram models\n",
    "- Similar patterns appeared in neural models, demonstrating this is a fundamental pattern rather than model-specific\n",
    "\n",
    "This contradicts the common assumption that larger vocabularies capture more linguistic patterns and highlights the importance of finding the optimal vocabulary size for the specific dataset and task.\n",
    "\n",
    "## Unicode Errors as Valuable Insights\n",
    "\n",
    "The Unicode decode errors took place predominantly with larger vocabularies (500+ merges) in N-gram models revealing a fundamental limitation: with the growth of vocabulary size, the probability space becomes more sparse, leading to statistically valid but linguistically invalid token combinations. This phenomenon demonstrates why modern language models carefully balance vocabulary size against statistical reliability.\n",
    "\n",
    "These errors weren't implementation bugs, but rather an emergent property that helps explain why smaller vocabularies performed better, as they maintain a more statistically robust token distribution that's less prone to generating invalid sequences.\n",
    "\n",
    "## Trade-offs Between Model Architectures\n",
    "\n",
    "Our experiments revealed clear trade-offs between the different approaches:\n",
    "\n",
    "1. **Classical N-grams**: Extremely fast training (0.5 seconds), reasonable perplexity (21.99), and minimal resource requirements make them surprisingly competitive for simple language tasks, especially with advanced smoothing techniques like interpolation.\n",
    "\n",
    "2. **Neural N-grams**: Moderate training time (880 seconds) with slightly improved modeling capacity, but the performance gains didn't justify the significantly higher computational cost compared to classical N-grams.\n",
    "\n",
    "3. **Mini-GPT**: Best modeling capacity with lowest perplexity (15.33), but at enormous computational cost (4300 seconds training time) - approximately 4000x slower than classical N-grams.\n",
    "\n",
    "The performance-to-computational-cost ratio suggests that classical N-gram models remain valuable in resource-constrained environments, while Mini-GPT's superior modeling capabilities are better suited for quality-focused applications with abundant computing resources.\n",
    "\n",
    "## Text Generation Quality and Model Evaluation\n",
    "\n",
    "As we found out by analysing generated text, perplexity metrics don't always correlate with perceived text quality. Some models with higher perplexity occasionally generated more coherent or linguistically plausible text, highlighting the importance of supplementing quantitative metrics with qualitative evaluation.\n",
    "\n",
    "This inconsistent between perplexity and generation quality is a known issue in the field of language modeling  and gives us a reminderthat optimizing for a single metric (perplexity) doesn't necessarily guarantee improvements in all aspects of language model performance.\n",
    "\n",
    "\n",
    "These findings align with observations in larger language models, where tokenization strategy significantly impacts performance. Our discovery that smaller vocabularies outperformed larger ones reflects the importance of data-specific tokenization optimization even in billion-parameter models."
   ]
  }
 ],
 "metadata": {
  "kernelspec": {
   "display_name": "Python 3 (ipykernel)",
   "language": "python",
   "name": "python3"
  },
  "language_info": {
   "codemirror_mode": {
    "name": "ipython",
    "version": 3
   },
   "file_extension": ".py",
   "mimetype": "text/x-python",
   "name": "python",
   "nbconvert_exporter": "python",
   "pygments_lexer": "ipython3",
   "version": "3.13.5"
  }
 },
 "nbformat": 4,
 "nbformat_minor": 5
}
